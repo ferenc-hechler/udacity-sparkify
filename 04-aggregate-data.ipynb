{
 "cells": [
  {
   "cell_type": "markdown",
   "id": "15fbf17d-596c-419b-ac66-e8126275f46a",
   "metadata": {
    "tags": []
   },
   "source": [
    "# \\[04\\] Aggregate Data\n",
    "\n",
    "## Some Thoughts about what to aggregate\n",
    "\n",
    "We want to make predictions for a user, whether he is likely to churn in the near future or not based on the histoy data we have.  \n",
    "This means, that our data has to be aggregated per user.\n",
    "\n",
    "We have roughly 2 Months of data for training. \n",
    "So, we can make an split after 6 weeks. Then we have 6 weeks of history data and 2 weeks in the future to find out, which users churned.\n",
    "\n",
    "So, our label is 1, if a users churns in the last two weeks of our event log.\n",
    "For training we use all other data, except the last two weeks.\n",
    "\n",
    "But it might be neccessary to modify this \"split\". Perhaps it makes sense, to look only one week into the future instead of two, or to use only the history data of the last three weeks instead of 6.  \n",
    "So, instead of aggregating all the data, we will make aggregations per user per week.\n",
    "So we are flexible afterwards what to use for training.\n",
    "\n",
    "One week is a good unit for aggregation, because it balances changes between the working days and the weekend.\n",
    "\n",
    "\n",
    "\n",
    "## Setup Spark Session\n",
    "\n",
    "for a detailed description what is done here see [01-setup-spark-session.ipynb](01-setup-spark-session.ipynb)\n"
   ]
  },
  {
   "cell_type": "code",
   "execution_count": 32,
   "id": "df5acf66-8ff9-4d6f-9d94-f36e3a90c38d",
   "metadata": {
    "tags": []
   },
   "outputs": [
    {
     "name": "stdout",
     "output_type": "stream",
     "text": [
      "### SETUP SPARK SESSION \"Sparkify\"\n",
      "Spark version: 3.3.2\n"
     ]
    }
   ],
   "source": [
    "# EVENT_DATA_URL = \"s3a://udacity/sparkify/sparkify_event_data.json\"\n",
    "EVENT_DATA_URL = \"s3a://udacity-dsnd/sparkify/mini_sparkify_event_data.json\"\n",
    "\n",
    "CLEAN_DATA_URL = EVENT_DATA_URL.replace(\"/sparkify/\", \"/sparkify/output/02-cleaned-\")\n",
    "WEEK_AGGREGATED_DATA_URL = EVENT_DATA_URL.replace(\"/sparkify/\", \"/sparkify/output/04-week-aggregated-\")\n",
    "\n",
    "EXECUTOR_INSTANCES = 2\n",
    "EXECUTOR_MEM = '6g'\n",
    "\n",
    "from pyspark import SparkConf, SparkContext\n",
    "from pyspark.sql import SparkSession\n",
    "from cryptography.fernet import Fernet\n",
    "import base64\n",
    "import socket\n",
    "\n",
    "!./install-s3-jars.sh\n",
    "\n",
    "def decrypt(encrypted_text):\n",
    "    \"\"\"\n",
    "    decrypts an encrypted text. The seed (master-password) for decryption is read from the file \".seed.txt\"\n",
    "    \n",
    "    Input: encrypted_text\n",
    "    \n",
    "    Output: the decrypted text. If the text was not encrypted with the same seed, \n",
    "            an exception is raised.\n",
    "    \"\"\"\n",
    "    with open('.seed.txt') as f:\n",
    "        seed = f.read().strip()\n",
    "    return Fernet(base64.b64encode((seed*32)[:32].encode('ascii')).decode('ascii')).decrypt(encrypted_text.encode('ascii')).decode('ascii')\n",
    "\n",
    "AWS_ACCESS_KEY_ID='V6ge1JcQpvyYGJjb'\n",
    "AWS_SECRET_ACCESS_KEY = decrypt('gAAAAABkDFI6865LaVJVgtTYo0aMx9-JTPbTo6cwOUjg5eNNPsZhBDoHbRZ8xuXQT0ImNfvqcecZuoJd1VzYQEpBaxyCnKvosii8O1KeqoL2NwKdKtL_AUfT4eW4dvJVP--VjEvc0gB4')\n",
    "OWN_IP=socket.gethostbyname(socket.gethostname())\n",
    "APP_NAME = \"Sparkify\"\n",
    "SPARK_MASTER = \"spark://bit-spark-master-svc.spark.svc.cluster.local:7077\"\n",
    "S3_HOST = \"minio-api-service.minio.svc\"\n",
    "\n",
    "print(f'### SETUP SPARK SESSION \"{APP_NAME}\"')\n",
    "spark = SparkSession.builder \\\n",
    "    .master(SPARK_MASTER) \\\n",
    "    .config(\"spark.jars\",\"/home/jovyan/jars/aws-java-sdk-bundle-1.11.1026.jar,/home/jovyan/jars/hadoop-aws-3.3.2.jar\") \\\n",
    "    .config(\"spark.driver.host\", OWN_IP) \\\n",
    "    .config(\"spark.hadoop.fs.s3a.endpoint\", S3_HOST) \\\n",
    "    .config(\"spark.hadoop.fs.s3a.connection.ssl.enabled\", \"false\") \\\n",
    "    .config(\"spark.hadoop.fs.s3a.access.key\", AWS_ACCESS_KEY_ID) \\\n",
    "    .config(\"spark.hadoop.fs.s3a.secret.key\", AWS_SECRET_ACCESS_KEY) \\\n",
    "    .config(\"spark.hadoop.fs.s3a.path.style.access\", \"true\") \\\n",
    "    .config(\"spark.hadoop.fs.s3a.impl\", \"org.apache.hadoop.fs.s3a.S3AFileSystem\") \\\n",
    "    .config(\"spark.executor.instances\", EXECUTOR_INSTANCES) \\\n",
    "    .config(\"spark.executor.memory\", EXECUTOR_MEM) \\\n",
    "    .appName(APP_NAME).getOrCreate()\n",
    "print(f\"Spark version: {spark.version}\")\n",
    "sc = spark.sparkContext\n",
    "sc.setLogLevel(\"WARN\")\n",
    "\n"
   ]
  },
  {
   "cell_type": "markdown",
   "id": "ef2e1f5c-f14f-45bc-9a55-ced8665a1168",
   "metadata": {},
   "source": [
    "## Get Clean Data\n",
    "\n",
    "There are two possibilities, how to get the cleaned data.  \n",
    "Load the saved data saved in step 02 from S3 or reapply the transformations to the original dataset.  \n",
    "\n",
    "**Only apply one of both possibilities**\n",
    "\n",
    "### Possibility 1 - Load cleaned dataset"
   ]
  },
  {
   "cell_type": "code",
   "execution_count": 2,
   "id": "ff4fe75b-57c5-411b-9266-1ab208c6e8b8",
   "metadata": {
    "tags": []
   },
   "outputs": [
    {
     "name": "stdout",
     "output_type": "stream",
     "text": [
      "### LOAD DATA s3a://udacity-dsnd/sparkify/output/02-cleaned-mini_sparkify_event_data.json\n",
      "### PERSIST\n"
     ]
    }
   ],
   "source": [
    "print(f\"### LOAD DATA {CLEAN_DATA_URL}\")\n",
    "df = spark.read.json(CLEAN_DATA_URL)\n",
    "print(f\"### PERSIST\")\n",
    "df_persist = df.persist()\n",
    "df = df_persist"
   ]
  },
  {
   "cell_type": "markdown",
   "id": "a8f25cdd-3151-4f61-8c8d-b4064a61b467",
   "metadata": {
    "tags": []
   },
   "source": [
    "### Possibility 2 - Load original dataset and Apply Transformations\n",
    "\n",
    "For a detailed description what is done here see [02-data-introspection.ipynb](02-data-introspection.ipynb)"
   ]
  },
  {
   "cell_type": "code",
   "execution_count": 33,
   "id": "87704cd4-40ba-48a1-aad4-f2933bf10fb5",
   "metadata": {},
   "outputs": [
    {
     "name": "stdout",
     "output_type": "stream",
     "text": [
      "### LOAD DATA s3a://udacity-dsnd/sparkify/mini_sparkify_event_data.json\n",
      "### DROP UNUSED COLUMNS\n",
      "### REMOVE EMPTY USERID\n",
      "### ADD ID\n",
      "### VECTORIZE PAGE FEATURES\n",
      "### VECTORIZE LEVEL FEATURE\n",
      "### VECTORIZE GENDER FEATURE\n",
      "### VECTORIZE STATUS FEATURES\n",
      "### ADD SID\n",
      "### PERSIST\n"
     ]
    }
   ],
   "source": [
    "import pyspark.sql.functions as F\n",
    "from pyspark.sql import Window\n",
    "from pyspark.sql.types import IntegerType\n",
    "\n",
    "print(f\"### LOAD DATA {EVENT_DATA_URL}\")\n",
    "df = spark.read.json(EVENT_DATA_URL)\n",
    "\n",
    "def norm_colname(name):\n",
    "    \"\"\"\n",
    "    Input: name which can contain spaces with upper and lowercase letters.\n",
    "    Output: all spaces replaced with an underscore and all letters converted to lowercase\n",
    "    \"\"\"\n",
    "    return name.replace(' ', '_').lower()\n",
    "\n",
    "print(f\"### DROP UNUSED COLUMNS\")\n",
    "df = df.drop(\"artist\", \"auth\", \"firstName\", \"lastName\", \"length\", \"location\", \"method\", \"song\", \"userAgent\")\n",
    "print(f\"### REMOVE EMPTY USERID\")\n",
    "df = df.filter(df.userId != '')\n",
    "print(f\"### ADD ID\")\n",
    "w = Window().orderBy(\"ts\")\n",
    "df = df.withColumn(\"id\", F.row_number().over(w))\n",
    "print(f\"### VECTORIZE PAGE FEATURES\")\n",
    "page_features = df.groupBy(\"id\").pivot(\"page\").agg(F.lit(1)).na.fill(0)\n",
    "page_features = page_features.toDF(*((\"pg_\"+norm_colname(col)) if col!=\"id\" else \"id\" for col in page_features.columns))\n",
    "df = df.join(page_features, \"id\")\n",
    "print(f\"### VECTORIZE LEVEL FEATURE\")\n",
    "df = df.withColumn(\"paid\", (df.level == 'paid').cast('int'))\n",
    "df = df.drop(\"level\")\n",
    "print(f\"### VECTORIZE GENDER FEATURE\")\n",
    "df = df.withColumn(\"male\", (df.gender == 'M').cast('int'))\n",
    "df = df.drop(\"gender\")\n",
    "print(f\"### VECTORIZE STATUS FEATURES\")\n",
    "status_features = df.groupBy(\"id\").pivot(\"status\").agg(F.lit(1)).na.fill(0)\n",
    "status_features = status_features.toDF(*((\"status_\"+col) if col != \"id\" else \"id\" for col in status_features.columns)).drop(\"status_200\")\n",
    "df = df.join(status_features, \"id\")\n",
    "df = df.drop(\"status\")\n",
    "print(f\"### ADD SID\")\n",
    "df_sess_user = df.select(\"sessionId\", \"userId\").dropDuplicates()\n",
    "w = Window().orderBy(\"sessionId\", \"userId\")\n",
    "df_sess_user = df_sess_user.withColumn(\"sid\", F.row_number().over(w))\n",
    "df = df.join(df_sess_user, [\"sessionId\", \"userId\"])\n",
    "df_session_start = df.groupBy(\"sid\").agg(F.min(\"id\").alias(\"id\")).drop(\"sid\").withColumn(\"session_start\", F.lit(1).cast(\"int\"))\n",
    "df = df.join(df_session_start, \"id\", how=\"outer\").fillna(0)\n",
    "df = df.drop(\"sessionId\", \"itemInSession\")\n",
    "print(f\"### PERSIST\")\n",
    "df_persist = df.persist()\n",
    "df = df_persist"
   ]
  },
  {
   "cell_type": "markdown",
   "id": "36d445f9-0f20-4f27-8d20-b30b50356599",
   "metadata": {},
   "source": [
    "## Imports\n",
    "\n",
    "Here are all imports which are needed in the cells below."
   ]
  },
  {
   "cell_type": "code",
   "execution_count": 34,
   "id": "75e62365-bffe-4b21-827b-087d467adc6a",
   "metadata": {
    "tags": []
   },
   "outputs": [],
   "source": [
    "import pyspark.sql.functions as F\n",
    "from pyspark.sql import Window\n",
    "from pyspark.sql.types import IntegerType\n",
    "import pandas as pd\n",
    "import numpy as np\n",
    "import matplotlib.pyplot as plt\n",
    "import math\n",
    "import datetime\n"
   ]
  },
  {
   "cell_type": "markdown",
   "id": "d5920ed1-6797-4f43-b823-58e0c0d39baf",
   "metadata": {},
   "source": [
    "## Constants\n",
    "\n",
    "constants that are used in the cells below"
   ]
  },
  {
   "cell_type": "code",
   "execution_count": 35,
   "id": "a227c25c-2b02-4da3-b1b8-5d1d27d7a774",
   "metadata": {
    "tags": []
   },
   "outputs": [],
   "source": [
    "# timestamp constants for ts in milliseconds\n",
    "one_hour =        60*60*1000  #     3.600.000\n",
    "one_day =      24*60*60*1000  #    86.400.000\n",
    "one_week =   7*24*60*60*1000  #   604.800.000\n",
    "one_month = 28*24*60*60*1000  # 2.419.200.000"
   ]
  },
  {
   "cell_type": "markdown",
   "id": "de22fd59-2560-4c32-8aa9-9cfa7a4497ed",
   "metadata": {
    "tags": []
   },
   "source": [
    "## Decide what and how to aggregate\n",
    "\n",
    "Let´s take a look at the columns"
   ]
  },
  {
   "cell_type": "code",
   "execution_count": 36,
   "id": "a641a8d7-2b20-4339-908f-380446c66f48",
   "metadata": {
    "tags": []
   },
   "outputs": [
    {
     "name": "stdout",
     "output_type": "stream",
     "text": [
      "root\n",
      " |-- id: integer (nullable = true)\n",
      " |-- userId: string (nullable = true)\n",
      " |-- page: string (nullable = true)\n",
      " |-- registration: long (nullable = true)\n",
      " |-- ts: long (nullable = true)\n",
      " |-- pg_about: integer (nullable = true)\n",
      " |-- pg_add_friend: integer (nullable = true)\n",
      " |-- pg_add_to_playlist: integer (nullable = true)\n",
      " |-- pg_cancel: integer (nullable = true)\n",
      " |-- pg_cancellation_confirmation: integer (nullable = true)\n",
      " |-- pg_downgrade: integer (nullable = true)\n",
      " |-- pg_error: integer (nullable = true)\n",
      " |-- pg_help: integer (nullable = true)\n",
      " |-- pg_home: integer (nullable = true)\n",
      " |-- pg_logout: integer (nullable = true)\n",
      " |-- pg_nextsong: integer (nullable = true)\n",
      " |-- pg_roll_advert: integer (nullable = true)\n",
      " |-- pg_save_settings: integer (nullable = true)\n",
      " |-- pg_settings: integer (nullable = true)\n",
      " |-- pg_submit_downgrade: integer (nullable = true)\n",
      " |-- pg_submit_upgrade: integer (nullable = true)\n",
      " |-- pg_thumbs_down: integer (nullable = true)\n",
      " |-- pg_thumbs_up: integer (nullable = true)\n",
      " |-- pg_upgrade: integer (nullable = true)\n",
      " |-- paid: integer (nullable = true)\n",
      " |-- male: integer (nullable = true)\n",
      " |-- status_307: integer (nullable = true)\n",
      " |-- status_404: integer (nullable = true)\n",
      " |-- sid: integer (nullable = true)\n",
      " |-- session_start: integer (nullable = true)\n",
      "\n"
     ]
    }
   ],
   "source": [
    "df.printSchema()"
   ]
  },
  {
   "cell_type": "markdown",
   "id": "081b78bc-6887-4743-b316-ea4076517059",
   "metadata": {
    "tags": []
   },
   "source": [
    "## New Column Week-ID \"wid\"\n",
    "\n",
    "We will tag each row with a week-id.\n",
    "\n",
    "We can derive the week from the timestamp column \"ts\".  \n",
    "One simple tagging would be to use the value of \"ts\" divided by the milliseconds of one week.  \n",
    "But then we will get a fraction of a week at the end of our data (the label section).  \n",
    "So, we will use the latest timestamp `ts` (=`ts_last`) from our dataset as a reference and calculate all timestamps as how far in the past from this timestamp `ts_last` they are.\n",
    "\n",
    "As a consequence the oldest aggregated week will not be complete, it may be dropped from training if this causes issues.\n",
    "\n"
   ]
  },
  {
   "cell_type": "code",
   "execution_count": 37,
   "id": "432c246b-2623-4015-88ce-a8abe57d66d7",
   "metadata": {
    "tags": []
   },
   "outputs": [
    {
     "name": "stdout",
     "output_type": "stream",
     "text": [
      "first timestamp: 2018-10-01 00:01:57\n",
      "last timestamp: 2018-12-03 01:11:16\n",
      "days: 63.04813657407407\n"
     ]
    }
   ],
   "source": [
    "ts_first = df.agg(F.min(df.ts).alias(\"ts_first\")).collect()[0].ts_first\n",
    "ts_last = df.agg(F.max(df.ts).alias(\"ts_last\")).collect()[0].ts_last\n",
    "days = (ts_last - ts_first)/one_day\n",
    "print(f\"first timestamp: {datetime.datetime.fromtimestamp(ts_first/1000.0)}\")\n",
    "print(f\"last timestamp: {datetime.datetime.fromtimestamp(ts_last/1000.0)}\")\n",
    "print(f\"days: {days}\")\n"
   ]
  },
  {
   "cell_type": "markdown",
   "id": "d66cb12c-becc-42ec-8cda-3ee1af4e8c58",
   "metadata": {},
   "source": [
    "### Event Distribution\n",
    "\n",
    "Lets take a look at the distribution per day:"
   ]
  },
  {
   "cell_type": "code",
   "execution_count": 38,
   "id": "a3abd288-6e71-467f-8031-1c5797bd62ff",
   "metadata": {
    "tags": []
   },
   "outputs": [],
   "source": [
    "df = df.withColumn(\"past\", (ts_last-F.col(\"ts\"))/one_day)"
   ]
  },
  {
   "cell_type": "code",
   "execution_count": 39,
   "id": "94af660a-65e7-461d-b312-fa10bfec427c",
   "metadata": {
    "tags": []
   },
   "outputs": [
    {
     "data": {
      "image/png": "[encoded data removed]",
      "text/plain": [
       "<Figure size 640x480 with 1 Axes>"
      ]
     },
     "metadata": {},
     "output_type": "display_data"
    }
   ],
   "source": [
    "x = [row.past for row in df.select(\"past\").collect()]\n",
    "plt.hist(x, bins=round(days), linewidth=0.5, edgecolor=\"white\")\n",
    "plt.show()"
   ]
  },
  {
   "cell_type": "markdown",
   "id": "c6a7a817-3e20-4ea4-90c2-dc7f7a74c77b",
   "metadata": {},
   "source": [
    "That is really strange. The events do not start at 0.\n",
    "Lets zoom into the last week:"
   ]
  },
  {
   "cell_type": "code",
   "execution_count": 40,
   "id": "185f2977-b612-4ae6-8018-75837f187900",
   "metadata": {
    "tags": []
   },
   "outputs": [
    {
     "data": {
      "image/png": "[encoded data removed]",
      "text/plain": [
       "<Figure size 640x480 with 1 Axes>"
      ]
     },
     "metadata": {},
     "output_type": "display_data"
    }
   ],
   "source": [
    "x = [row.past for row in df.where(F.col(\"past\")<7).select(\"past\").collect()]\n",
    "plt.hist(x, bins=70, linewidth=0.5, edgecolor=\"white\")\n",
    "plt.show()"
   ]
  },
  {
   "cell_type": "markdown",
   "id": "99efa93e-6691-4eb3-a1fb-d8bade91a128",
   "metadata": {},
   "source": [
    "There must be some outlyer, so that the last timestamp is 2 days ahead of all others"
   ]
  },
  {
   "cell_type": "code",
   "execution_count": 41,
   "id": "c4496860-64b4-4d1a-a2fe-efaa8043233e",
   "metadata": {
    "tags": []
   },
   "outputs": [
    {
     "data": {
      "image/png": "[encoded data removed]",
      "text/plain": [
       "<Figure size 640x480 with 1 Axes>"
      ]
     },
     "metadata": {},
     "output_type": "display_data"
    }
   ],
   "source": [
    "x = [row.past for row in df.where(F.col(\"past\")<2.055).select(\"past\").collect()]\n",
    "plt.hist(x, bins=100, linewidth=0.5, edgecolor=\"white\")\n",
    "plt.show()"
   ]
  },
  {
   "cell_type": "markdown",
   "id": "cd56f810-eb03-45dc-a765-7111f38361be",
   "metadata": {},
   "source": [
    "Somehow there is one timestamp ahead of all others.\n",
    "We will directly remove it"
   ]
  },
  {
   "cell_type": "code",
   "execution_count": 42,
   "id": "ae8c0d4a-972f-4312-8d1b-338f2b67e660",
   "metadata": {
    "tags": []
   },
   "outputs": [],
   "source": [
    "df = df.where(F.col(\"ts\")!=ts_last)"
   ]
  },
  {
   "cell_type": "markdown",
   "id": "56b792a3-fdf6-4a7d-842e-067d64ee7161",
   "metadata": {},
   "source": [
    "Now we have to recalculate the timestamps"
   ]
  },
  {
   "cell_type": "code",
   "execution_count": 43,
   "id": "405a8e69-0922-43b5-93fc-af491432a1fb",
   "metadata": {
    "tags": []
   },
   "outputs": [
    {
     "name": "stdout",
     "output_type": "stream",
     "text": [
      "first timestamp: 2018-10-01 00:01:57\n",
      "last timestamp: 2018-12-01 00:02:59\n",
      "days: 61.00071759259259\n"
     ]
    }
   ],
   "source": [
    "ts_first = df.agg(F.min(df.ts).alias(\"ts_first\")).collect()[0].ts_first\n",
    "ts_last = df.agg(F.max(df.ts).alias(\"ts_last\")).collect()[0].ts_last\n",
    "days = (ts_last - ts_first)/one_day\n",
    "print(f\"first timestamp: {datetime.datetime.fromtimestamp(ts_first/1000.0)}\")\n",
    "print(f\"last timestamp: {datetime.datetime.fromtimestamp(ts_last/1000.0)}\")\n",
    "print(f\"days: {days}\")\n"
   ]
  },
  {
   "cell_type": "code",
   "execution_count": 44,
   "id": "f5164dcf-196c-4de7-8b59-fa476a4d21e1",
   "metadata": {
    "tags": []
   },
   "outputs": [],
   "source": [
    "df = df.withColumn(\"past\", (ts_last-F.col(\"ts\"))/one_day)"
   ]
  },
  {
   "cell_type": "code",
   "execution_count": 45,
   "id": "be511203-c424-4c4e-84e0-56eb99a70c6d",
   "metadata": {
    "tags": []
   },
   "outputs": [
    {
     "data": {
      "image/png": "[encoded data removed]",
      "text/plain": [
       "<Figure size 640x480 with 1 Axes>"
      ]
     },
     "metadata": {},
     "output_type": "display_data"
    }
   ],
   "source": [
    "x = [row.past for row in df.select(\"past\").collect()]\n",
    "plt.hist(x, bins=round(days), linewidth=0.5, edgecolor=\"white\")\n",
    "plt.show()"
   ]
  },
  {
   "cell_type": "markdown",
   "id": "0ee7e011-fae5-4134-81ed-367b43d773d2",
   "metadata": {},
   "source": [
    "Now it looks much better.  \n",
    "We can see a 7-day cycle. It shows, that there are more events during workdays than at the weekend.  \n",
    "To be sure, lets again zoom into the last week (0-6)"
   ]
  },
  {
   "cell_type": "code",
   "execution_count": 46,
   "id": "5f7405d9-7757-45e4-95d6-0751ad1e5e07",
   "metadata": {
    "tags": []
   },
   "outputs": [
    {
     "data": {
      "image/png": "[encoded data removed]",
      "text/plain": [
       "<Figure size 640x480 with 1 Axes>"
      ]
     },
     "metadata": {},
     "output_type": "display_data"
    }
   ],
   "source": [
    "x = [row.past for row in df.where(F.col(\"past\")<7).select(\"past\").collect()]\n",
    "plt.hist(x, bins=70, linewidth=0.5, edgecolor=\"white\")\n",
    "plt.show()"
   ]
  },
  {
   "cell_type": "markdown",
   "id": "4bacd5cf-b4b6-4f43-b8ae-3c09b674db8c",
   "metadata": {
    "tags": []
   },
   "source": [
    "Now we can define our Week-Identifier"
   ]
  },
  {
   "cell_type": "code",
   "execution_count": 47,
   "id": "887b86c0-8d0f-4824-b3e1-9f58646f04de",
   "metadata": {
    "tags": []
   },
   "outputs": [
    {
     "name": "stdout",
     "output_type": "stream",
     "text": [
      "+---+-----+\n",
      "|wid|count|\n",
      "+---+-----+\n",
      "|  0|30425|\n",
      "|  1|29436|\n",
      "|  2|29875|\n",
      "|  3|29088|\n",
      "|  4|37440|\n",
      "|  5|32872|\n",
      "|  6|32715|\n",
      "|  7|34449|\n",
      "|  8|21853|\n",
      "+---+-----+\n",
      "\n"
     ]
    }
   ],
   "source": [
    "df = df.withColumn(\"wid\", F.floor((ts_last-F.col(\"ts\"))/one_week))\n",
    "df.groupBy(\"wid\").count().sort(\"wid\").show()"
   ]
  },
  {
   "cell_type": "code",
   "execution_count": 48,
   "id": "e4ba96ae-8faa-4968-b5e2-f729add2ed58",
   "metadata": {
    "tags": []
   },
   "outputs": [
    {
     "data": {
      "image/png": "[encoded data removed]",
      "text/plain": [
       "<Figure size 640x480 with 1 Axes>"
      ]
     },
     "metadata": {},
     "output_type": "display_data"
    }
   ],
   "source": [
    "x = [row.wid for row in df.select(\"wid\").collect()]\n",
    "plt.hist(x, bins=9, linewidth=0.5, edgecolor=\"white\")\n",
    "plt.show()"
   ]
  },
  {
   "cell_type": "markdown",
   "id": "8be653e6-16ad-416b-bbee-1ea7d3180897",
   "metadata": {},
   "source": [
    "Distribution of Week-ID now looks also fine. The last week (8) is filled only 2/3. That are the two days missing (61 modulo 7 is 5)."
   ]
  },
  {
   "cell_type": "markdown",
   "id": "2a283532-18bf-4031-8fc7-3b98fd0cf15a",
   "metadata": {},
   "source": [
    "### Constant User data\n",
    "\n",
    "The columns\"male\" and \"registration\" are constant for a user.\n",
    "Let´s check this:"
   ]
  },
  {
   "cell_type": "code",
   "execution_count": 49,
   "id": "0d8a6e34-5d40-471c-a423-ebb326c09b29",
   "metadata": {
    "tags": []
   },
   "outputs": [
    {
     "data": {
      "text/plain": [
       "0"
      ]
     },
     "execution_count": 49,
     "metadata": {},
     "output_type": "execute_result"
    }
   ],
   "source": [
    "df.groupBy(\"userId\").agg(F.min(F.col(\"male\")).alias(\"male_min\"), F.max(F.col(\"male\")).alias(\"male_max\")).where(F.col(\"male_min\") != F.col(\"male_max\")).count()"
   ]
  },
  {
   "cell_type": "code",
   "execution_count": 50,
   "id": "ef453245-e272-42a9-8ddf-53ddd2bd2ce6",
   "metadata": {
    "tags": []
   },
   "outputs": [
    {
     "data": {
      "text/plain": [
       "0"
      ]
     },
     "execution_count": 50,
     "metadata": {},
     "output_type": "execute_result"
    }
   ],
   "source": [
    "df.groupBy(\"userId\").agg(F.min(F.col(\"registration\")).alias(\"registration_min\"), F.max(F.col(\"registration\")).alias(\"registration_max\")).where(F.col(\"registration_min\") != F.col(\"registration_max\")).count()"
   ]
  },
  {
   "cell_type": "markdown",
   "id": "9094cb7f-e504-4a84-abab-a2e41d97f096",
   "metadata": {},
   "source": [
    "We will collect user-constant values in a seperate dataframe and rename it to \"user_male\" and \"user_registrationdays\".\n",
    "For these columns no aggregation is needed.  \n",
    "Instead of the absolute registration timestamp, we will calculate how many days before `ts_last`it was."
   ]
  },
  {
   "cell_type": "code",
   "execution_count": 51,
   "id": "3c90e0b0-4359-4bf3-ac5c-59581328ff98",
   "metadata": {
    "tags": []
   },
   "outputs": [
    {
     "name": "stdout",
     "output_type": "stream",
     "text": [
      "+------+--------+------------------+\n",
      "|userId|usermale|  userregistration|\n",
      "+------+--------+------------------+\n",
      "|100010|       0| 64.88702546296297|\n",
      "|200002|       1| 85.10038194444445|\n",
      "|    51|       1| 64.13879629629629|\n",
      "|   124|       0|131.92412037037036|\n",
      "|    54|       0|128.93422453703704|\n",
      "+------+--------+------------------+\n",
      "only showing top 5 rows\n",
      "\n"
     ]
    }
   ],
   "source": [
    "df_user = df.groupBy(\"userId\").agg(F.max(F.col(\"male\")).alias(\"usermale\"), F.max((ts_last-F.col(\"registration\"))/one_day).alias(\"userregistration\"))\n",
    "df_user.show(5)"
   ]
  },
  {
   "cell_type": "markdown",
   "id": "6d5b172a-ca9f-4d1a-b53f-c3f82b025ce2",
   "metadata": {},
   "source": [
    "## Irrelevant Columns\n",
    "\n",
    "The columns \"id\" and \"page\" are not relevant for training and can be dropped in the aggregated data"
   ]
  },
  {
   "cell_type": "markdown",
   "id": "f955ea59-040f-4748-9644-404dbbd74103",
   "metadata": {},
   "source": [
    "## Page, Status Events and Session Starts\n",
    "\n",
    "all \"pg_...\" and \"status_...\" columns can be aggregated by building the sum.  \n",
    "So, we can see, how often a user clicked a button/hit a 404 page/... in the aggregated time (week)"
   ]
  },
  {
   "cell_type": "code",
   "execution_count": 52,
   "id": "558c372d-1625-4571-a51d-593eee3578d8",
   "metadata": {
    "tags": []
   },
   "outputs": [
    {
     "name": "stdout",
     "output_type": "stream",
     "text": [
      "-RECORD 0---------------------------\n",
      " userId                       | 87  \n",
      " wid                          | 5   \n",
      " pg_about                     | 1   \n",
      " pg_add_friend                | 0   \n",
      " pg_add_to_playlist           | 2   \n",
      " pg_cancel                    | 1   \n",
      " pg_cancellation_confirmation | 1   \n",
      " pg_downgrade                 | 1   \n",
      " pg_error                     | 0   \n",
      " pg_help                      | 0   \n",
      " pg_home                      | 6   \n",
      " pg_logout                    | 3   \n",
      " pg_nextsong                  | 145 \n",
      " pg_roll_advert               | 0   \n",
      " pg_save_settings             | 0   \n",
      " pg_settings                  | 1   \n",
      " pg_submit_downgrade          | 0   \n",
      " pg_submit_upgrade            | 1   \n",
      " pg_thumbs_down               | 1   \n",
      " pg_thumbs_up                 | 3   \n",
      " pg_upgrade                   | 1   \n",
      " status_307                   | 9   \n",
      " status_404                   | 0   \n",
      "only showing top 1 row\n",
      "\n"
     ]
    }
   ],
   "source": [
    "sum_cols = [col for col in df.columns if col.startswith(\"pg_\") or col.startswith(\"status_\")]\n",
    "aggs = [F.sum(F.col(col)).alias(col) for col in sum_cols]\n",
    "df_pg_status_agg = df.groupBy(\"userId\", \"wid\").agg(*aggs)\n",
    "df_pg_status_agg.show(1, vertical=True)"
   ]
  },
  {
   "cell_type": "markdown",
   "id": "2391726a-e00b-494d-8bc9-41e1abc379e5",
   "metadata": {},
   "source": [
    "## Timestamps and Sessions\n",
    "\n",
    "We have marked the first timestamp in every session with session_start=1. So summing up `session_start` will show us, how many sessions a user had during the aggregation interval.  \n",
    "If a session overlaps to the next week then the session start will only ne counted for the first week.\n",
    "\n",
    "The temporary column \"max_id\" contains the maximum value of column \"id\" and is used to have a reference to the last event logged in this interval.  \n",
    "This will be used later for the column paid.\n"
   ]
  },
  {
   "cell_type": "code",
   "execution_count": 53,
   "id": "3f495ed4-e266-4296-83f2-2f3b23d7a253",
   "metadata": {
    "tags": []
   },
   "outputs": [
    {
     "name": "stdout",
     "output_type": "stream",
     "text": [
      "+------+---+-------------+------+\n",
      "|userId|wid|session_start|max_id|\n",
      "+------+---+-------------+------+\n",
      "|    87|  5|            1| 92809|\n",
      "|    71|  5|            2|119326|\n",
      "|    63|  4|            1|141789|\n",
      "|    60|  2|            4|218292|\n",
      "|    35|  7|            5| 56295|\n",
      "+------+---+-------------+------+\n",
      "only showing top 5 rows\n",
      "\n"
     ]
    }
   ],
   "source": [
    "aggs = [F.sum(F.col(\"session_start\")).alias(\"session_start\"), F.max(F.col(\"id\")).alias(\"max_id\")]\n",
    "df_sessionstart_agg = df.groupBy(\"userId\", \"wid\").agg(*aggs)\n",
    "df_sessionstart_agg.show(5)"
   ]
  },
  {
   "cell_type": "markdown",
   "id": "2643ae9f-4059-4cab-bad2-d2ebfc2fb6b8",
   "metadata": {},
   "source": [
    "Next to the number of sessions, it might be interesting, how much time a user spend all together in Sparkify.  \n",
    "This can be calculated by grouping additional by \"sid\" (the session id) and building min() and max() from \"ts\".  \n",
    "The sum of all difference \"max(ts)-min(ts)\" is then the time the user has used Sparkify in this week.  \n",
    "To find a better scaling the value is scaled from milliseconds into hours."
   ]
  },
  {
   "cell_type": "code",
   "execution_count": 54,
   "id": "9911345f-04a3-41ee-98a2-4d113444fb80",
   "metadata": {
    "tags": []
   },
   "outputs": [
    {
     "name": "stdout",
     "output_type": "stream",
     "text": [
      "+------+---+------------------+\n",
      "|userId|wid|     session_hours|\n",
      "+------+---+------------------+\n",
      "|    71|  5|13.503611111111113|\n",
      "|200011|  7|20.758333333333333|\n",
      "|    60|  2| 37.21527777777778|\n",
      "|    37|  2| 19.60472222222222|\n",
      "|    35|  7| 26.32111111111111|\n",
      "+------+---+------------------+\n",
      "only showing top 5 rows\n",
      "\n"
     ]
    }
   ],
   "source": [
    "df_sessionhours_agg = df.groupBy(\"userId\", \"wid\", \"sid\").agg(F.max(F.col(\"ts\")), F.min(F.col(\"ts\"))).withColumn(\"session_hours\", (F.col(\"max(ts)\")-F.col(\"min(ts)\"))/one_hour).groupBy(\"userId\", \"wid\").agg(F.sum(F.col(\"session_hours\")).alias(\"session_hours\"))\n",
    "df_sessionhours_agg.show(5)"
   ]
  },
  {
   "cell_type": "markdown",
   "id": "cbc4c914-6ede-4a73-8b7d-ad1ca8f90776",
   "metadata": {},
   "source": [
    "## Column \"paid\"\n",
    "\n",
    "For the paid status it might be interesting to know the current state, because downgrading is only possible, if the current state is \"paid\".  \n",
    "It is not of interest, how many events were issued, while the state was paid. So, summing up would be of no value.  \n",
    "Instead of, we should take the last state in the aggregation time. We can use the already aggregated column past_end for finding the latest status.  "
   ]
  },
  {
   "cell_type": "code",
   "execution_count": 55,
   "id": "4c698477-e698-43c5-b799-d5cc74052bdf",
   "metadata": {
    "tags": []
   },
   "outputs": [
    {
     "name": "stdout",
     "output_type": "stream",
     "text": [
      "+----+-----+\n",
      "|paid|count|\n",
      "+----+-----+\n",
      "|   1|  766|\n",
      "|   0|  526|\n",
      "+----+-----+\n",
      "\n"
     ]
    }
   ],
   "source": [
    "df_paid_agg = df.join(df_sessionstart_agg.withColumnRenamed(\"max_id\", \"id\"), [\"userId\", \"wid\", \"id\"]).select(\"userId\", \"wid\", \"id\", \"paid\").drop(\"id\")\n",
    "df_sessionstart_agg = df_sessionstart_agg.drop(\"max_id\")\n",
    "df_paid_agg.groupBy(\"paid\").count().show()"
   ]
  },
  {
   "cell_type": "markdown",
   "id": "077d01df-6cd1-4497-86e2-c86fcb72709a",
   "metadata": {},
   "source": [
    "## Putting it all together\n",
    "\n",
    "Now, where we have all the pieces, we can put them together to have one dataset as base for generating training data.  \n",
    "To simplify things, we will add the user constant values to each week, so we do not have to maintain two datasets.  \n",
    "The amount of data duplicatio is not so high.  "
   ]
  },
  {
   "cell_type": "code",
   "execution_count": 56,
   "id": "7ab802d1-9c7c-4a63-bafd-762234ae0eee",
   "metadata": {
    "tags": []
   },
   "outputs": [],
   "source": [
    "df_userweek = df_pg_status_agg.join(df_sessionstart_agg, [\"userId\", \"wid\"])\n",
    "df_userweek = df_userweek.join(df_sessionhours_agg, [\"userId\", \"wid\"])\n",
    "df_userweek = df_userweek.join(df_paid_agg, [\"userId\", \"wid\"])\n",
    "df_userweek = df_userweek.join(df_user, [\"userId\"])\n"
   ]
  },
  {
   "cell_type": "code",
   "execution_count": 57,
   "id": "3cc3d3dd-64d4-429c-85a7-2d56c139c71f",
   "metadata": {
    "tags": []
   },
   "outputs": [
    {
     "name": "stdout",
     "output_type": "stream",
     "text": [
      "-RECORD 0------------------------------------------\n",
      " userId                       | 87                 \n",
      " wid                          | 5                  \n",
      " pg_about                     | 1                  \n",
      " pg_add_friend                | 0                  \n",
      " pg_add_to_playlist           | 2                  \n",
      " pg_cancel                    | 1                  \n",
      " pg_cancellation_confirmation | 1                  \n",
      " pg_downgrade                 | 1                  \n",
      " pg_error                     | 0                  \n",
      " pg_help                      | 0                  \n",
      " pg_home                      | 6                  \n",
      " pg_logout                    | 3                  \n",
      " pg_nextsong                  | 145                \n",
      " pg_roll_advert               | 0                  \n",
      " pg_save_settings             | 0                  \n",
      " pg_settings                  | 1                  \n",
      " pg_submit_downgrade          | 0                  \n",
      " pg_submit_upgrade            | 1                  \n",
      " pg_thumbs_down               | 1                  \n",
      " pg_thumbs_up                 | 3                  \n",
      " pg_upgrade                   | 1                  \n",
      " status_307                   | 9                  \n",
      " status_404                   | 0                  \n",
      " session_start                | 1                  \n",
      " session_hours                | 10.1125            \n",
      " paid                         | 1                  \n",
      " usermale                     | 1                  \n",
      " userregistration             | 100.46871527777778 \n",
      "only showing top 1 row\n",
      "\n"
     ]
    }
   ],
   "source": [
    "df_userweek.show(1, vertical=True)"
   ]
  },
  {
   "cell_type": "markdown",
   "id": "7d7add21-f0ee-479b-a4c9-0b4d82b07430",
   "metadata": {},
   "source": [
    "## Save to S3\n",
    "\n",
    "The aggregated data per week can be saved to a S3 bucket for reusing it when generating different sets of training data."
   ]
  },
  {
   "cell_type": "code",
   "execution_count": null,
   "id": "87ec65f9-220a-4307-b853-9a3ce14b65d7",
   "metadata": {
    "tags": []
   },
   "outputs": [],
   "source": [
    "WEEK_AGGREGATED_DATA_URL = EVENT_DATA_URL.replace(\"/sparkify/\", \"/sparkify/output/04-week-aggregated-\")\n",
    "\n",
    "print(f\"### SAVING CLEANED DATA {WEEK_AGGREGATED_DATA_URL}\")\n",
    "df.write.format('json').mode('overwrite').save(WEEK_AGGREGATED_DATA_URL)\n",
    "print(f\"finished\")"
   ]
  },
  {
   "cell_type": "code",
   "execution_count": 27,
   "id": "87d4cb43-ef96-4630-9844-f463b7b03c6c",
   "metadata": {},
   "outputs": [],
   "source": [
    "spark.stop()"
   ]
  },
  {
   "cell_type": "code",
   "execution_count": null,
   "id": "899ac3c4-e4ee-42f3-88c8-a46ae17737df",
   "metadata": {},
   "outputs": [],
   "source": []
  }
 ],
 "metadata": {
  "kernelspec": {
   "display_name": "py38",
   "language": "python",
   "name": "py38"
  },
  "language_info": {
   "codemirror_mode": {
    "name": "ipython",
    "version": 3
   },
   "file_extension": ".py",
   "mimetype": "text/x-python",
   "name": "python",
   "nbconvert_exporter": "python",
   "pygments_lexer": "ipython3",
   "version": "3.8.0"
  }
 },
 "nbformat": 4,
 "nbformat_minor": 5
}
