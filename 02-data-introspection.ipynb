{
 "cells": [
  {
   "cell_type": "markdown",
   "id": "15fbf17d-596c-419b-ac66-e8126275f46a",
   "metadata": {
    "tags": []
   },
   "source": [
    "CLEAN_DATA_URL = EVENT_DATA_URL.replace(\"/sparkify/\", \"/sparkify/output/02-cleaned-\")\n",
    "# \\[02\\] Data Introspection\n",
    "\n",
    "## Setup Spark Session\n",
    "\n",
    "for a detailed description what is done here see [01-setup-spark-session.ipynb](01-setup-spark-session.ipynb)"
   ]
  },
  {
   "cell_type": "code",
   "execution_count": 1,
   "id": "df5acf66-8ff9-4d6f-9d94-f36e3a90c38d",
   "metadata": {
    "tags": []
   },
   "outputs": [
    {
     "name": "stdout",
     "output_type": "stream",
     "text": [
      "### SETUP SPARK SESSION \"Sparkify\"\n",
      "Spark version: 3.3.2\n",
      "### LOAD DATA s3a://udacity-dsnd/sparkify/mini_sparkify_event_data.json\n",
      "### PERSIST df\n"
     ]
    }
   ],
   "source": [
    "# EVENT_DATA_URL = \"s3a://udacity/sparkify/sparkify_event_data.json\"\n",
    "EVENT_DATA_URL = \"s3a://udacity-dsnd/sparkify/mini_sparkify_event_data.json\"\n",
    "\n",
    "CLEAN_DATA_URL = EVENT_DATA_URL.replace(\"/sparkify/\", \"/sparkify/output/02-cleaned-\")\n",
    "\n",
    "EXECUTOR_INSTANCES = 2\n",
    "EXECUTOR_MEM = '6g'\n",
    "\n",
    "from pyspark import SparkConf, SparkContext\n",
    "from pyspark.sql import SparkSession\n",
    "from cryptography.fernet import Fernet\n",
    "import base64\n",
    "import socket\n",
    "\n",
    "!./install-s3-jars.sh\n",
    "\n",
    "def decrypt(encrypted_text):\n",
    "    \"\"\"\n",
    "    decrypts an encrypted text. The seed (master-password) for decryption is read from the file \".seed.txt\"\n",
    "    \n",
    "    Input: encrypted_text\n",
    "    \n",
    "    Output: the decrypted text. If the text was not encrypted with the same seed, \n",
    "            an exception is raised.\n",
    "    \"\"\"\n",
    "    with open('.seed.txt') as f:\n",
    "        seed = f.read().strip()\n",
    "    return Fernet(base64.b64encode((seed*32)[:32].encode('ascii')).decode('ascii')).decrypt(encrypted_text.encode('ascii')).decode('ascii')\n",
    "\n",
    "AWS_ACCESS_KEY_ID='V6ge1JcQpvyYGJjb'\n",
    "AWS_SECRET_ACCESS_KEY = decrypt('gAAAAABkDFI6865LaVJVgtTYo0aMx9-JTPbTo6cwOUjg5eNNPsZhBDoHbRZ8xuXQT0ImNfvqcecZuoJd1VzYQEpBaxyCnKvosii8O1KeqoL2NwKdKtL_AUfT4eW4dvJVP--VjEvc0gB4')\n",
    "OWN_IP=socket.gethostbyname(socket.gethostname())\n",
    "APP_NAME = \"Sparkify\"\n",
    "SPARK_MASTER = \"spark://bit-spark-master-svc.spark.svc.cluster.local:7077\"\n",
    "S3_HOST = \"minio-api-service.minio.svc\"\n",
    "\n",
    "print(f'### SETUP SPARK SESSION \"{APP_NAME}\"')\n",
    "spark = SparkSession.builder \\\n",
    "    .master(SPARK_MASTER) \\\n",
    "    .config(\"spark.jars\",\"/home/jovyan/jars/aws-java-sdk-bundle-1.11.1026.jar,/home/jovyan/jars/hadoop-aws-3.3.2.jar\") \\\n",
    "    .config(\"spark.driver.host\", OWN_IP) \\\n",
    "    .config(\"spark.hadoop.fs.s3a.endpoint\", S3_HOST) \\\n",
    "    .config(\"spark.hadoop.fs.s3a.connection.ssl.enabled\", \"false\") \\\n",
    "    .config(\"spark.hadoop.fs.s3a.access.key\", AWS_ACCESS_KEY_ID) \\\n",
    "    .config(\"spark.hadoop.fs.s3a.secret.key\", AWS_SECRET_ACCESS_KEY) \\\n",
    "    .config(\"spark.hadoop.fs.s3a.path.style.access\", \"true\") \\\n",
    "    .config(\"spark.hadoop.fs.s3a.impl\", \"org.apache.hadoop.fs.s3a.S3AFileSystem\") \\\n",
    "    .config(\"spark.executor.instances\", EXECUTOR_INSTANCES) \\\n",
    "    .config(\"spark.executor.memory\", EXECUTOR_MEM) \\\n",
    "    .appName(APP_NAME).getOrCreate()\n",
    "print(f\"Spark version: {spark.version}\")\n",
    "sc = spark.sparkContext\n",
    "sc.setLogLevel(\"WARN\")\n",
    "\n",
    "print(f\"### LOAD DATA {EVENT_DATA_URL}\")\n",
    "df = spark.read.json(EVENT_DATA_URL)\n",
    "print(f\"### PERSIST df\")\n",
    "df_persist = df.persist()\n",
    "df = df_persist"
   ]
  },
  {
   "cell_type": "code",
   "execution_count": 2,
   "id": "45494729-2a75-4575-a174-1eab1d757a46",
   "metadata": {
    "tags": []
   },
   "outputs": [],
   "source": [
    "df = df_persist"
   ]
  },
  {
   "cell_type": "markdown",
   "id": "5b99c617-20da-463b-9eb9-6219364bb061",
   "metadata": {},
   "source": [
    "## Import necessary packages"
   ]
  },
  {
   "cell_type": "code",
   "execution_count": 3,
   "id": "243fb596-40aa-451c-bdca-e13c252b4ffb",
   "metadata": {
    "tags": []
   },
   "outputs": [],
   "source": [
    "import pyspark.sql.functions as F\n",
    "from pyspark.sql import Window\n",
    "from pyspark.sql.types import IntegerType"
   ]
  },
  {
   "cell_type": "markdown",
   "id": "9809ca77-e268-42ef-8d4b-0443e835db94",
   "metadata": {},
   "source": [
    "## First look\n"
   ]
  },
  {
   "cell_type": "code",
   "execution_count": 4,
   "id": "a0927955-db0f-43ae-848d-e90f832a7211",
   "metadata": {
    "tags": []
   },
   "outputs": [
    {
     "name": "stdout",
     "output_type": "stream",
     "text": [
      "root\n",
      " |-- artist: string (nullable = true)\n",
      " |-- auth: string (nullable = true)\n",
      " |-- firstName: string (nullable = true)\n",
      " |-- gender: string (nullable = true)\n",
      " |-- itemInSession: long (nullable = true)\n",
      " |-- lastName: string (nullable = true)\n",
      " |-- length: double (nullable = true)\n",
      " |-- level: string (nullable = true)\n",
      " |-- location: string (nullable = true)\n",
      " |-- method: string (nullable = true)\n",
      " |-- page: string (nullable = true)\n",
      " |-- registration: long (nullable = true)\n",
      " |-- sessionId: long (nullable = true)\n",
      " |-- song: string (nullable = true)\n",
      " |-- status: long (nullable = true)\n",
      " |-- ts: long (nullable = true)\n",
      " |-- userAgent: string (nullable = true)\n",
      " |-- userId: string (nullable = true)\n",
      "\n"
     ]
    }
   ],
   "source": [
    "df.printSchema()"
   ]
  },
  {
   "cell_type": "code",
   "execution_count": 5,
   "id": "534f4cdc-dab2-4578-a3b0-f0af49d4ae68",
   "metadata": {
    "tags": []
   },
   "outputs": [
    {
     "name": "stdout",
     "output_type": "stream",
     "text": [
      "+----------------+---------+---------+------+-------------+--------+---------+-----+--------------------+------+--------+-------------+---------+--------------------+------+-------------+--------------------+------+\n",
      "|          artist|     auth|firstName|gender|itemInSession|lastName|   length|level|            location|method|    page| registration|sessionId|                song|status|           ts|           userAgent|userId|\n",
      "+----------------+---------+---------+------+-------------+--------+---------+-----+--------------------+------+--------+-------------+---------+--------------------+------+-------------+--------------------+------+\n",
      "|  Martha Tilston|Logged In|    Colin|     M|           50| Freeman|277.89016| paid|     Bakersfield, CA|   PUT|NextSong|1538173362000|       29|           Rockpools|   200|1538352117000|Mozilla/5.0 (Wind...|    30|\n",
      "|Five Iron Frenzy|Logged In|    Micah|     M|           79|    Long|236.09424| free|Boston-Cambridge-...|   PUT|NextSong|1538331630000|        8|              Canada|   200|1538352180000|\"Mozilla/5.0 (Win...|     9|\n",
      "|    Adam Lambert|Logged In|    Colin|     M|           51| Freeman| 282.8273| paid|     Bakersfield, CA|   PUT|NextSong|1538173362000|       29|   Time For Miracles|   200|1538352394000|Mozilla/5.0 (Wind...|    30|\n",
      "|          Enigma|Logged In|    Micah|     M|           80|    Long|262.71302| free|Boston-Cambridge-...|   PUT|NextSong|1538331630000|        8|Knocking On Forbi...|   200|1538352416000|\"Mozilla/5.0 (Win...|     9|\n",
      "|       Daft Punk|Logged In|    Colin|     M|           52| Freeman|223.60771| paid|     Bakersfield, CA|   PUT|NextSong|1538173362000|       29|Harder Better Fas...|   200|1538352676000|Mozilla/5.0 (Wind...|    30|\n",
      "+----------------+---------+---------+------+-------------+--------+---------+-----+--------------------+------+--------+-------------+---------+--------------------+------+-------------+--------------------+------+\n",
      "only showing top 5 rows\n",
      "\n"
     ]
    }
   ],
   "source": [
    "df.show(5)"
   ]
  },
  {
   "cell_type": "code",
   "execution_count": 6,
   "id": "0b66a502-d4d6-4a14-9eb0-c8ce1c3bbf56",
   "metadata": {
    "tags": []
   },
   "outputs": [
    {
     "name": "stdout",
     "output_type": "stream",
     "text": [
      "+-------+------------------+----------+---------+------+------------------+--------+------------------+------+-----------------+------+-------+--------------------+-----------------+--------------------+------------------+--------------------+--------------------+------------------+\n",
      "|summary|            artist|      auth|firstName|gender|     itemInSession|lastName|            length| level|         location|method|   page|        registration|        sessionId|                song|            status|                  ts|           userAgent|            userId|\n",
      "+-------+------------------+----------+---------+------+------------------+--------+------------------+------+-----------------+------+-------+--------------------+-----------------+--------------------+------------------+--------------------+--------------------+------------------+\n",
      "|  count|            228108|    286500|   278154|278154|            286500|  278154|            228108|286500|           278154|286500| 286500|              278154|           286500|              228108|            286500|              286500|              278154|            286500|\n",
      "|   mean| 551.0852017937219|      null|     null|  null|114.41421291448516|    null|249.11718197783375|  null|             null|  null|   null|1.535358834085557E12|1041.526554973822|            Infinity|210.05459685863875|1.540956889810471...|                null| 59682.02278593872|\n",
      "| stddev|1217.7693079161381|      null|     null|  null|129.76726201141105|    null| 99.23517921058325|  null|             null|  null|   null| 3.291321616327434E9|726.7762634630799|                 NaN| 31.50507848842204| 1.507543960819524E9|                null|109091.94999910535|\n",
      "|    min|               !!!| Cancelled| Adelaida|     F|                 0|   Adams|           0.78322|  free|       Albany, OR|   GET|  About|       1521380675000|                1|\u001c",
      "ÃÂg ÃÂtti Gr...|               200|       1538352117000|\"Mozilla/5.0 (Mac...|                  |\n",
      "|    max| ÃÂlafur Arnalds|Logged Out|   Zyonna|     M|              1321|  Wright|        3024.66567|  paid|Winston-Salem, NC|   PUT|Upgrade|       1543247354000|             2474|ÃÂau hafa slopp...|               404|       1543799476000|Mozilla/5.0 (comp...|                99|\n",
      "+-------+------------------+----------+---------+------+------------------+--------+------------------+------+-----------------+------+-------+--------------------+-----------------+--------------------+------------------+--------------------+--------------------+------------------+\n",
      "\n"
     ]
    }
   ],
   "source": [
    "df.describe().show()"
   ]
  },
  {
   "cell_type": "markdown",
   "id": "09f9f3f1-636a-4c45-ab71-f5afc4230d50",
   "metadata": {},
   "source": [
    "Looks like there are some encoding issues in `artist` and `song`  \n",
    "Drop text columns and describe again:"
   ]
  },
  {
   "cell_type": "code",
   "execution_count": 7,
   "id": "58bfdcf6-511d-47b2-adb3-8e0d7bea0c60",
   "metadata": {
    "tags": []
   },
   "outputs": [
    {
     "name": "stdout",
     "output_type": "stream",
     "text": [
      "+-------+------------------+------------------+--------------------+-----------------+------------------+--------------------+------------------+\n",
      "|summary|     itemInSession|            length|        registration|        sessionId|            status|                  ts|            userId|\n",
      "+-------+------------------+------------------+--------------------+-----------------+------------------+--------------------+------------------+\n",
      "|  count|            286500|            228108|              278154|           286500|            286500|              286500|            286500|\n",
      "|   mean|114.41421291448516|249.11718197783375|1.535358834085557E12|1041.526554973822|210.05459685863875|1.540956889810471...| 59682.02278593872|\n",
      "| stddev|129.76726201141105| 99.23517921058325| 3.291321616327434E9|726.7762634630799| 31.50507848842204| 1.507543960819524E9|109091.94999910535|\n",
      "|    min|                 0|           0.78322|       1521380675000|                1|               200|       1538352117000|                  |\n",
      "|    max|              1321|        3024.66567|       1543247354000|             2474|               404|       1543799476000|                99|\n",
      "+-------+------------------+------------------+--------------------+-----------------+------------------+--------------------+------------------+\n",
      "\n"
     ]
    }
   ],
   "source": [
    "df.drop(\"artist\", \"song\", \"userAgent\", \"firstName\", \"lastName\", \"location\", \"gender\", \"method\", \"level\", \"page\", \"auth\").describe().show()"
   ]
  },
  {
   "cell_type": "code",
   "execution_count": 8,
   "id": "acf9af38-1e40-4026-b73a-0f3c3ec7d61b",
   "metadata": {
    "tags": []
   },
   "outputs": [
    {
     "name": "stdout",
     "output_type": "stream",
     "text": [
      "+---------+---------+------+-------------+--------+---------+-----+--------------------+------+---------------+-------------+---------+------+-------------+------+\n",
      "|     auth|firstName|gender|itemInSession|lastName|   length|level|            location|method|           page| registration|sessionId|status|           ts|userId|\n",
      "+---------+---------+------+-------------+--------+---------+-----+--------------------+------+---------------+-------------+---------+------+-------------+------+\n",
      "|Logged In|    Colin|     M|           50| Freeman|277.89016| paid|     Bakersfield, CA|   PUT|       NextSong|1538173362000|       29|   200|1538352117000|    30|\n",
      "|Logged In|    Micah|     M|           79|    Long|236.09424| free|Boston-Cambridge-...|   PUT|       NextSong|1538331630000|        8|   200|1538352180000|     9|\n",
      "|Logged In|    Colin|     M|           51| Freeman| 282.8273| paid|     Bakersfield, CA|   PUT|       NextSong|1538173362000|       29|   200|1538352394000|    30|\n",
      "|Logged In|    Micah|     M|           80|    Long|262.71302| free|Boston-Cambridge-...|   PUT|       NextSong|1538331630000|        8|   200|1538352416000|     9|\n",
      "|Logged In|    Colin|     M|           52| Freeman|223.60771| paid|     Bakersfield, CA|   PUT|       NextSong|1538173362000|       29|   200|1538352676000|    30|\n",
      "|Logged In|    Micah|     M|           81|    Long|208.29995| free|Boston-Cambridge-...|   PUT|       NextSong|1538331630000|        8|   200|1538352678000|     9|\n",
      "|Logged In|    Micah|     M|           82|    Long|260.46649| free|Boston-Cambridge-...|   PUT|       NextSong|1538331630000|        8|   200|1538352886000|     9|\n",
      "|Logged In|    Colin|     M|           53| Freeman|185.44281| paid|     Bakersfield, CA|   PUT|       NextSong|1538173362000|       29|   200|1538352899000|    30|\n",
      "|Logged In|    Colin|     M|           54| Freeman|     null| paid|     Bakersfield, CA|   PUT|Add to Playlist|1538173362000|       29|   200|1538352905000|    30|\n",
      "|Logged In|    Colin|     M|           55| Freeman|134.47791| paid|     Bakersfield, CA|   PUT|       NextSong|1538173362000|       29|   200|1538353084000|    30|\n",
      "|Logged In|    Micah|     M|           83|    Long| 229.8771| free|Boston-Cambridge-...|   PUT|       NextSong|1538331630000|        8|   200|1538353146000|     9|\n",
      "|Logged In|    Micah|     M|           84|    Long|     null| free|Boston-Cambridge-...|   GET|    Roll Advert|1538331630000|        8|   200|1538353150000|     9|\n",
      "|Logged In|    Colin|     M|           56| Freeman|223.58159| paid|     Bakersfield, CA|   PUT|       NextSong|1538173362000|       29|   200|1538353218000|    30|\n",
      "|Logged In|    Micah|     M|           85|    Long|201.06404| free|Boston-Cambridge-...|   PUT|       NextSong|1538331630000|        8|   200|1538353375000|     9|\n",
      "|Logged In|    Micah|     M|           86|    Long|     null| free|Boston-Cambridge-...|   PUT|      Thumbs Up|1538331630000|        8|   307|1538353376000|     9|\n",
      "|Logged In|    Colin|     M|           57| Freeman|246.69995| paid|     Bakersfield, CA|   PUT|       NextSong|1538173362000|       29|   200|1538353441000|    30|\n",
      "|Logged In|    Micah|     M|           87|    Long|168.64608| free|Boston-Cambridge-...|   PUT|       NextSong|1538331630000|        8|   200|1538353576000|     9|\n",
      "|Logged In|  Ashlynn|     F|            0|Williams| 166.1122| free|     Tallahassee, FL|   PUT|       NextSong|1537365219000|      217|   200|1538353668000|    74|\n",
      "|Logged In|    Colin|     M|           58| Freeman|222.22322| paid|     Bakersfield, CA|   PUT|       NextSong|1538173362000|       29|   200|1538353687000|    30|\n",
      "|Logged In|    Micah|     M|           88|    Long|229.77261| free|Boston-Cambridge-...|   PUT|       NextSong|1538331630000|        8|   200|1538353744000|     9|\n",
      "+---------+---------+------+-------------+--------+---------+-----+--------------------+------+---------------+-------------+---------+------+-------------+------+\n",
      "only showing top 20 rows\n",
      "\n"
     ]
    }
   ],
   "source": [
    "df.drop(\"artist\", \"song\", \"userAgent\").show()"
   ]
  },
  {
   "cell_type": "markdown",
   "id": "d7c5b34e-2c76-46cd-b330-304c0347b8b3",
   "metadata": {},
   "source": [
    "### Get list of possible values for categorical columns"
   ]
  },
  {
   "cell_type": "code",
   "execution_count": 9,
   "id": "8cb5a622-8c8a-4dfa-a24e-17356d0acfb9",
   "metadata": {
    "tags": []
   },
   "outputs": [
    {
     "name": "stdout",
     "output_type": "stream",
     "text": [
      "+----------+------+\n",
      "|      auth| count|\n",
      "+----------+------+\n",
      "|Logged Out|  8249|\n",
      "| Cancelled|    52|\n",
      "| Logged In|278102|\n",
      "|     Guest|    97|\n",
      "+----------+------+\n",
      "\n"
     ]
    }
   ],
   "source": [
    "df.groupBy(\"auth\").count().show()"
   ]
  },
  {
   "cell_type": "code",
   "execution_count": 10,
   "id": "bcd61c58-48f1-49de-a414-47da30541e90",
   "metadata": {
    "tags": []
   },
   "outputs": [
    {
     "name": "stdout",
     "output_type": "stream",
     "text": [
      "+------+------+\n",
      "|gender| count|\n",
      "+------+------+\n",
      "|     F|154578|\n",
      "|  null|  8346|\n",
      "|     M|123576|\n",
      "+------+------+\n",
      "\n"
     ]
    }
   ],
   "source": [
    "df.groupBy(\"gender\").count().show()"
   ]
  },
  {
   "cell_type": "code",
   "execution_count": 11,
   "id": "a59b96ec-173f-4785-9ec1-404686472e7f",
   "metadata": {
    "tags": []
   },
   "outputs": [
    {
     "name": "stdout",
     "output_type": "stream",
     "text": [
      "+-----+------+\n",
      "|level| count|\n",
      "+-----+------+\n",
      "| free| 58338|\n",
      "| paid|228162|\n",
      "+-----+------+\n",
      "\n"
     ]
    }
   ],
   "source": [
    "df.groupBy(\"level\").count().show()"
   ]
  },
  {
   "cell_type": "code",
   "execution_count": 12,
   "id": "92e85ab7-0257-4e2a-8d2b-af8c47468fd1",
   "metadata": {
    "tags": []
   },
   "outputs": [
    {
     "name": "stdout",
     "output_type": "stream",
     "text": [
      "+------+------+\n",
      "|method| count|\n",
      "+------+------+\n",
      "|   PUT|261064|\n",
      "|   GET| 25436|\n",
      "+------+------+\n",
      "\n"
     ]
    }
   ],
   "source": [
    "df.groupBy(\"method\").count().show()"
   ]
  },
  {
   "cell_type": "code",
   "execution_count": 13,
   "id": "1ab3ff86-7a05-4e59-afd1-454781aaca27",
   "metadata": {
    "tags": []
   },
   "outputs": [
    {
     "name": "stdout",
     "output_type": "stream",
     "text": [
      "different page categories: 22\n",
      "['Cancel', 'Submit Downgrade', 'Thumbs Down', 'Home', 'Downgrade', 'Roll Advert', 'Logout', 'Save Settings', 'Cancellation Confirmation', 'About', 'Settings', 'Login', 'Add to Playlist', 'Add Friend', 'NextSong', 'Thumbs Up', 'Help', 'Upgrade', 'Error', 'Submit Upgrade', 'Submit Registration', 'Register']\n"
     ]
    }
   ],
   "source": [
    "pages = [x.page for x in df.select(\"page\").distinct().collect()]\n",
    "print(f\"different page categories: {len(pages)}\")\n",
    "print(pages)"
   ]
  },
  {
   "cell_type": "code",
   "execution_count": 14,
   "id": "beac871b-f85d-456f-932d-f35931357a92",
   "metadata": {
    "tags": []
   },
   "outputs": [
    {
     "name": "stdout",
     "output_type": "stream",
     "text": [
      "+------+------+\n",
      "|status| count|\n",
      "+------+------+\n",
      "|   307| 26430|\n",
      "|   404|   258|\n",
      "|   200|259812|\n",
      "+------+------+\n",
      "\n"
     ]
    }
   ],
   "source": [
    "df.groupBy(\"status\").count().show()"
   ]
  },
  {
   "cell_type": "markdown",
   "id": "41a7adaf-8e03-4c2f-9617-39c5d0ade910",
   "metadata": {
    "tags": []
   },
   "source": [
    "### Get counts / ranges"
   ]
  },
  {
   "cell_type": "code",
   "execution_count": 15,
   "id": "036907a2-6832-4fa2-9d0d-64dfa41293c6",
   "metadata": {
    "tags": []
   },
   "outputs": [
    {
     "name": "stdout",
     "output_type": "stream",
     "text": [
      "first timestamp: 2018-10-01 00:01:57\n",
      "last timestamp: 2018-12-03 01:11:16\n"
     ]
    }
   ],
   "source": [
    "import datetime\n",
    "\n",
    "ts_first = df.agg(F.min(df.ts).alias(\"ts_first\")).collect()[0].ts_first\n",
    "ts_last = df.agg(F.max(df.ts).alias(\"ts_last\")).collect()[0].ts_last\n",
    "\n",
    "print(f\"first timestamp: {datetime.datetime.fromtimestamp(ts_first/1000.0)}\")\n",
    "print(f\"last timestamp: {datetime.datetime.fromtimestamp(ts_last/1000.0)}\")"
   ]
  },
  {
   "cell_type": "code",
   "execution_count": 16,
   "id": "b2f1ae7d-cc93-4eda-bb99-046effe74fcf",
   "metadata": {
    "tags": []
   },
   "outputs": [
    {
     "name": "stdout",
     "output_type": "stream",
     "text": [
      "number of users: 226\n"
     ]
    }
   ],
   "source": [
    "print(f'number of users: {df.select(\"userId\").distinct().count()}')"
   ]
  },
  {
   "cell_type": "code",
   "execution_count": 17,
   "id": "9526d096-7bb6-4398-9de7-bd25e2e4afda",
   "metadata": {
    "tags": []
   },
   "outputs": [
    {
     "name": "stdout",
     "output_type": "stream",
     "text": [
      "number of sessions: 2354\n"
     ]
    }
   ],
   "source": [
    "print(f'number of sessions: {df.select(\"sessionId\").distinct().count()}')"
   ]
  },
  {
   "cell_type": "code",
   "execution_count": 18,
   "id": "350c7b9c-45ed-4753-8bd6-d2849c79ec1c",
   "metadata": {
    "tags": []
   },
   "outputs": [
    {
     "name": "stdout",
     "output_type": "stream",
     "text": [
      "+-------------+---------+-------------+---------------+\n",
      "|           ts|sessionId|itemInSession|           page|\n",
      "+-------------+---------+-------------+---------------+\n",
      "|1538352117000|       29|           50|       NextSong|\n",
      "|1538352394000|       29|           51|       NextSong|\n",
      "|1538352676000|       29|           52|       NextSong|\n",
      "|1538352899000|       29|           53|       NextSong|\n",
      "|1538352905000|       29|           54|Add to Playlist|\n",
      "|1538353084000|       29|           55|       NextSong|\n",
      "|1538353218000|       29|           56|       NextSong|\n",
      "|1538353441000|       29|           57|       NextSong|\n",
      "|1538353687000|       29|           58|       NextSong|\n",
      "|1538353909000|       29|           59|       NextSong|\n",
      "|1538354132000|       29|           60|       NextSong|\n",
      "|1538354365000|       29|           61|       NextSong|\n",
      "|1538354584000|       29|           62|       NextSong|\n",
      "|1538354806000|       29|           63|       NextSong|\n",
      "|1538354945000|       29|           64|       NextSong|\n",
      "|1538355256000|       29|           65|       NextSong|\n",
      "|1538355473000|       29|           66|       NextSong|\n",
      "|1538355711000|       29|           67|       NextSong|\n",
      "|1538355915000|       29|           68|       NextSong|\n",
      "|1538356263000|       29|           69|       NextSong|\n",
      "|1538356523000|       29|           70|       NextSong|\n",
      "|1538356524000|       29|           71|    Thumbs Down|\n",
      "|1538356707000|       29|           72|       NextSong|\n",
      "|1538356903000|       29|           73|       NextSong|\n",
      "|1538357223000|       29|           74|       NextSong|\n",
      "|1538357452000|       29|           75|       NextSong|\n",
      "|1538357648000|       29|           76|       NextSong|\n",
      "|1538357649000|       29|           77|      Thumbs Up|\n",
      "|1538357990000|       29|           78|       NextSong|\n",
      "|1538357991000|       29|           79|      Thumbs Up|\n",
      "|1538358314000|       29|           80|       NextSong|\n",
      "|1538358532000|       29|           81|       NextSong|\n",
      "|1538358761000|       29|           82|       NextSong|\n",
      "|1538359054000|       29|           83|       NextSong|\n",
      "|1538359320000|       29|           84|       NextSong|\n",
      "|1538360720000|       29|           85|       NextSong|\n",
      "|1538360737000|       29|           86|    Roll Advert|\n",
      "|1538360905000|       29|           87|       NextSong|\n",
      "|1538361107000|       29|           88|       NextSong|\n",
      "|1538361372000|       29|           89|       NextSong|\n",
      "|1538361540000|       29|           90|       NextSong|\n",
      "|1538361575000|       29|           91|Add to Playlist|\n",
      "|1540661258000|       29|            0|           Home|\n",
      "+-------------+---------+-------------+---------------+\n",
      "\n"
     ]
    }
   ],
   "source": [
    "df.select(\"ts\", \"sessionId\", \"itemInSession\", \"page\").where(F.col(\"sessionId\")==29).sort(\"ts\").show(999)"
   ]
  },
  {
   "cell_type": "code",
   "execution_count": 19,
   "id": "4995c6cf-8cab-46e0-8162-1f8d0a742e4a",
   "metadata": {
    "tags": []
   },
   "outputs": [
    {
     "name": "stdout",
     "output_type": "stream",
     "text": [
      "number of locations: 115\n"
     ]
    }
   ],
   "source": [
    "print(f'number of locations: {df.select(\"location\").distinct().count()}')"
   ]
  },
  {
   "cell_type": "code",
   "execution_count": 20,
   "id": "f7d0a8d2-81a6-4663-9259-085cde20c05a",
   "metadata": {
    "tags": []
   },
   "outputs": [
    {
     "name": "stdout",
     "output_type": "stream",
     "text": [
      "first registration: 2018-03-18 13:44:35\n",
      "last registration: 2018-11-26 15:49:14\n"
     ]
    }
   ],
   "source": [
    "reg_first = df.agg(F.min(df.registration).alias(\"reg_first\")).collect()[0].reg_first\n",
    "reg_last = df.agg(F.max(df.registration).alias(\"reg_last\")).collect()[0].reg_last\n",
    "\n",
    "print(f\"first registration: {datetime.datetime.fromtimestamp(reg_first/1000.0)}\")\n",
    "print(f\"last registration: {datetime.datetime.fromtimestamp(reg_last/1000.0)}\")"
   ]
  },
  {
   "cell_type": "markdown",
   "id": "5f125885-3071-41a2-a70f-91872a99bda4",
   "metadata": {},
   "source": [
    "### Result of the first look\n",
    "\n",
    "There are some encoding problems in artist and song.\n",
    "\n",
    "`ts` is the timestamp, when the event (row) was recorded (in Milliseconds). Data was collected for two months in 2018 from October 1st to December 3rd.\n",
    "\n",
    "`userId` is a user specific identifier, the dataset contains 226 users\n",
    "\n",
    "`page` is the action, which triggered the event. There are 22 different page categories, like entering home-page, clicking the Next-Song Button, ...\n",
    "\n",
    "`sessionId` identifies the Browser-Session of a user. `itemInSession` counts upwards the events in the user session. Has to be analyzed in more detail later, strange is itemInSession \"0\" is after the other timestamps 50-91.\n",
    "\n",
    "`userAgent` identifies the browser, which the user uses (Mozilla, ...)\n",
    "\n",
    "`method` shows whether a formular was sent (POST) or only a page was requested (GET). Most likely is this strongly coupled to the category in `page`\n",
    "\n",
    "`status`HTTP return code for the request: 200 - \"OK\", 307 - \"Temporary Redirect\", 404 - \"Page not found\"\n",
    "\n",
    "`song`, `artist` and `length` are related to the currently slected song. It is not very likely, that these information can give hints about a user churning\n",
    "\n",
    "`auth` shows the session state (logged-in/logged-out/...). There are many null values.\n",
    "\n",
    "`firstName`, `lastName`, `location`, `gender` are related to the user. `location` has 115 different values for 226 users, so it can not be seen as categorical. `firstName` and `lastName` should not have any relevance for churning, but `gender` might be relevant\n",
    "\n",
    "`registration` is the timestamp, when the user registered for Sparkify. Registrations start in March, (when the famous new Sparkify service was launched) and also reach into the timeframe of the data set (end of November) \n",
    "\n",
    "`level` shows the current contract the user has, \"free\" or \"paid\"\n"
   ]
  },
  {
   "cell_type": "markdown",
   "id": "f9217496-ad9d-4ec1-b920-1e53311d2bf1",
   "metadata": {
    "tags": []
   },
   "source": [
    "# Cleanup\n",
    "\n",
    "## Irrelevant columns\n",
    "\n",
    "Based on the above analysis we can remove columns which are not relevant for our analysis"
   ]
  },
  {
   "cell_type": "code",
   "execution_count": 21,
   "id": "9418af33-2368-4133-b522-54144cc2dce7",
   "metadata": {
    "tags": []
   },
   "outputs": [],
   "source": [
    "df = df.drop(\"artist\", \"auth\", \"firstName\", \"lastName\", \"length\", \"location\", \"method\", \"song\", \"userAgent\")"
   ]
  },
  {
   "cell_type": "markdown",
   "id": "2fd2254e-9ed2-4e32-93f8-837679454898",
   "metadata": {
    "tags": []
   },
   "source": [
    "## Empty User-ID\n",
    "\n",
    "Remove events recorder for not logged in users (userId ist \"\")"
   ]
  },
  {
   "cell_type": "code",
   "execution_count": 22,
   "id": "5a844e0a-3151-4a87-a572-a05346a3ea9d",
   "metadata": {
    "tags": []
   },
   "outputs": [
    {
     "name": "stdout",
     "output_type": "stream",
     "text": [
      "events without userId: 8346\n",
      "number of events 278154\n",
      "number of users 225\n"
     ]
    }
   ],
   "source": [
    "print(f\"events without userId: {df.filter(df.userId == '').count()}\")\n",
    "\n",
    "df = df.filter(df.userId != '')\n",
    "\n",
    "print(f\"number of events {df.count()}\")\n",
    "print(f\"number of users {df.select(df.userId).distinct().count()}\")"
   ]
  },
  {
   "cell_type": "markdown",
   "id": "d120b11f-3e38-4551-972a-9be83df1a46e",
   "metadata": {},
   "source": [
    "## Add ID column\n",
    "\n",
    "The timestamp field `ts` is not unique, so it can not be used to identify an event. \n",
    "Add a new columne with name ID sorted in ascending `ts` order."
   ]
  },
  {
   "cell_type": "code",
   "execution_count": 23,
   "id": "f010ada2-f893-4f58-857c-792edfb8fc8e",
   "metadata": {
    "tags": []
   },
   "outputs": [
    {
     "name": "stdout",
     "output_type": "stream",
     "text": [
      "duplicate timestamps: 8384\n",
      "duplicate ids: 0\n"
     ]
    }
   ],
   "source": [
    "print(f\"duplicate timestamps: {df.select('ts').count() - df.select('ts').distinct().count()}\")\n",
    "\n",
    "w = Window().orderBy(\"ts\")\n",
    "df = df.withColumn(\"id\", F.row_number().over(w))\n",
    "\n",
    "print(f\"duplicate ids: {df.select('id').count() - df.select('id').distinct().count()}\")\n"
   ]
  },
  {
   "cell_type": "markdown",
   "id": "2157dc0d-7fee-4e15-a732-e5f81db05cd1",
   "metadata": {
    "tags": []
   },
   "source": [
    "## Dummy Encode page category\n",
    "\n",
    "The `page` column contains categorical values.  \n",
    "To make the different values accessible as seperate features for training the values are dummy encoded using the Spark `pivot()` function.\n",
    "\n",
    "The automatically generated column names are renamed to have the prefix \"pg_\" with only lowercase letters and underscore instead of space.\n",
    "\n",
    "Because of the big number of categories the first column is not dropped."
   ]
  },
  {
   "cell_type": "markdown",
   "id": "743cb50b-1a2e-431d-a66e-5daf207501c7",
   "metadata": {},
   "source": [
    "### Define metadata for each pagename\n",
    "\n",
    "This metadata is mainly used for visualizations or pretty printing."
   ]
  },
  {
   "cell_type": "code",
   "execution_count": 24,
   "id": "0fb78f77-e299-4613-846a-b53048f2c1ef",
   "metadata": {
    "tags": []
   },
   "outputs": [],
   "source": [
    "page_info = {\n",
    " 'Error':                     {'id':  5, 'color': 'red'},\n",
    "\n",
    " 'Home':                      {'id': 10, 'color': 'gray'},\n",
    " 'Help':                      {'id': 11, 'color': 'gray'},\n",
    " 'About':                     {'id': 12, 'color': 'gray'},\n",
    "\n",
    " 'Login':                     {'id': 14, 'color': 'gray'},\n",
    " 'Logout':                    {'id': 15, 'color': 'gray'},\n",
    "    \n",
    " 'Settings':                  {'id': 17, 'color': 'gray'},\n",
    " 'Save Settings':             {'id': 18, 'color': 'gray'},\n",
    " 'Add Friend':                {'id': 19, 'color': 'gray'},\n",
    "\n",
    " 'Thumbs Down':               {'id': 22, 'color': 'gray'},\n",
    " 'Thumbs Up':                 {'id': 23, 'color': 'gray'},\n",
    " 'Add to Playlist':           {'id': 24, 'color': 'gray'},\n",
    " 'NextSong':                  {'id': 25, 'color': 'gray'},\n",
    "\n",
    " 'Roll Advert':               {'id': 27, 'color': 'gray'},\n",
    "\n",
    " 'Register':                  {'id': 30, 'color': 'yellow'},\n",
    " 'Upgrade':                   {'id': 31, 'color': 'yellow'},\n",
    "\n",
    " 'Submit Registration':       {'id': 34, 'color': 'green'},\n",
    " 'Submit Upgrade':            {'id': 35, 'color': 'green'},\n",
    "\n",
    " 'Downgrade':                 {'id': 38, 'color': 'orange'},\n",
    " 'Cancel':                    {'id': 39, 'color': 'orange'},\n",
    "\n",
    " 'Submit Downgrade':          {'id': 42, 'color': 'red'},\n",
    "    \n",
    " 'Cancellation Confirmation': {'id': 44, 'color': 'red'},\n",
    "\n",
    "}"
   ]
  },
  {
   "cell_type": "markdown",
   "id": "04f59edc-4e54-409c-8fe6-d7de3c403f9f",
   "metadata": {},
   "source": [
    "Add a normalized name to `page_info` without space and all lowercase, which can be used for the dummy column names."
   ]
  },
  {
   "cell_type": "code",
   "execution_count": 25,
   "id": "8f7b48a6-fa6e-43b6-b3fa-9ce2c4367486",
   "metadata": {
    "tags": []
   },
   "outputs": [],
   "source": [
    "def norm_colname(name):\n",
    "    \"\"\"\n",
    "    Input: name which can contain spaces with upper and lowercase letters.\n",
    "    Output: all spaces replaced with an underscore and all letters converted to lowercase\n",
    "    \"\"\"\n",
    "    return name.replace(' ', '_').lower()\n",
    "\n",
    "## add \"colname\" to dictionary page_info\n",
    "for k in page_info.keys():\n",
    "    page_info[k][\"colname\"] = \"pg_\"+norm_colname(k)"
   ]
  },
  {
   "cell_type": "markdown",
   "id": "985fdb39-095b-44f6-9657-cd1e57ede614",
   "metadata": {
    "tags": []
   },
   "source": [
    "### Create \"pg_...\"  features\n",
    "\n",
    "Using the `pivot()` function for each page category a seperate column will be created. The column name is prefixed with \"pg_\" and normalized.  \n",
    "Therefore the metadata stored in `page_info` is used."
   ]
  },
  {
   "cell_type": "code",
   "execution_count": 26,
   "id": "58aeb7a8-e1d6-443b-98c7-e8aa60ca7720",
   "metadata": {
    "tags": []
   },
   "outputs": [
    {
     "name": "stdout",
     "output_type": "stream",
     "text": [
      "+---+--------+-------------+------------------+---------+----------------------------+------------+--------+-------+-------+---------+-----------+--------------+----------------+-----------+-------------------+-----------------+--------------+------------+----------+\n",
      "| id|pg_about|pg_add_friend|pg_add_to_playlist|pg_cancel|pg_cancellation_confirmation|pg_downgrade|pg_error|pg_help|pg_home|pg_logout|pg_nextsong|pg_roll_advert|pg_save_settings|pg_settings|pg_submit_downgrade|pg_submit_upgrade|pg_thumbs_down|pg_thumbs_up|pg_upgrade|\n",
      "+---+--------+-------------+------------------+---------+----------------------------+------------+--------+-------+-------+---------+-----------+--------------+----------------+-----------+-------------------+-----------------+--------------+------------+----------+\n",
      "|  1|       0|            0|                 0|        0|                           0|           0|       0|      0|      0|        0|          1|             0|               0|          0|                  0|                0|             0|           0|         0|\n",
      "|  2|       0|            0|                 0|        0|                           0|           0|       0|      0|      0|        0|          1|             0|               0|          0|                  0|                0|             0|           0|         0|\n",
      "|  3|       0|            0|                 0|        0|                           0|           0|       0|      0|      0|        0|          1|             0|               0|          0|                  0|                0|             0|           0|         0|\n",
      "|  4|       0|            0|                 0|        0|                           0|           0|       0|      0|      0|        0|          1|             0|               0|          0|                  0|                0|             0|           0|         0|\n",
      "|  5|       0|            0|                 0|        0|                           0|           0|       0|      0|      0|        0|          1|             0|               0|          0|                  0|                0|             0|           0|         0|\n",
      "|  6|       0|            0|                 0|        0|                           0|           0|       0|      0|      0|        0|          1|             0|               0|          0|                  0|                0|             0|           0|         0|\n",
      "|  7|       0|            0|                 0|        0|                           0|           0|       0|      0|      0|        0|          1|             0|               0|          0|                  0|                0|             0|           0|         0|\n",
      "|  8|       0|            0|                 0|        0|                           0|           0|       0|      0|      0|        0|          1|             0|               0|          0|                  0|                0|             0|           0|         0|\n",
      "|  9|       0|            0|                 1|        0|                           0|           0|       0|      0|      0|        0|          0|             0|               0|          0|                  0|                0|             0|           0|         0|\n",
      "| 10|       0|            0|                 0|        0|                           0|           0|       0|      0|      0|        0|          1|             0|               0|          0|                  0|                0|             0|           0|         0|\n",
      "+---+--------+-------------+------------------+---------+----------------------------+------------+--------+-------+-------+---------+-----------+--------------+----------------+-----------+-------------------+-----------------+--------------+------------+----------+\n",
      "only showing top 10 rows\n",
      "\n"
     ]
    }
   ],
   "source": [
    "page_features = df.groupBy(\"id\").pivot(\"page\").agg(F.lit(1)).na.fill(0)\n",
    "page_features = page_features.toDF(*((page_info[col][\"colname\"]) if col!=\"id\" else \"id\" for col in page_features.columns))\n",
    "page_features.show(10)"
   ]
  },
  {
   "cell_type": "markdown",
   "id": "aa9664cd-3637-4b04-9226-02530c1476c6",
   "metadata": {},
   "source": [
    "### Looking at the numbers\n",
    "\n",
    "Aggregate the sum  for all page columns to get an impression how often which action was triggered: "
   ]
  },
  {
   "cell_type": "code",
   "execution_count": 27,
   "id": "6776f38e-7e43-45a8-b920-b39a5ecfebf0",
   "metadata": {
    "tags": []
   },
   "outputs": [
    {
     "name": "stdout",
     "output_type": "stream",
     "text": [
      "+-------------+------------------+--------------+-----------------------+-------------------+------------+-----------------+----------------------+------------------------+--------------+-------------+---------------------------------+----------------+----------------+---------------+-----------------+------------+---------------------+-------------------+\n",
      "|sum(pg_error)|sum(pg_add_friend)|sum(pg_cancel)|sum(pg_add_to_playlist)|sum(pg_roll_advert)|sum(pg_home)|sum(pg_downgrade)|sum(pg_submit_upgrade)|sum(pg_submit_downgrade)|sum(pg_logout)|sum(pg_about)|sum(pg_cancellation_confirmation)|sum(pg_nextsong)|sum(pg_settings)|sum(pg_upgrade)|sum(pg_thumbs_up)|sum(pg_help)|sum(pg_save_settings)|sum(pg_thumbs_down)|\n",
      "+-------------+------------------+--------------+-----------------------+-------------------+------------+-----------------+----------------------+------------------------+--------------+-------------+---------------------------------+----------------+----------------+---------------+-----------------+------------+---------------------+-------------------+\n",
      "|          252|              4277|            52|                   6526|               3933|       10082|             2055|                   159|                      63|          3226|          495|                               52|          228108|            1514|            499|            12551|        1454|                  310|               2546|\n",
      "+-------------+------------------+--------------+-----------------------+-------------------+------------+-----------------+----------------------+------------------------+--------------+-------------+---------------------------------+----------------+----------------+---------------+-----------------+------------+---------------------+-------------------+\n",
      "\n",
      "number of cancellations: 52\n",
      "number of downgrades: 63\n"
     ]
    }
   ],
   "source": [
    "aggs  = {x: \"sum\" for x in page_features.columns if x != 'id'}\n",
    "pagesum = page_features.agg(aggs)\n",
    "pagesum.show()\n",
    "print(f'number of cancellations: {pagesum.collect()[0].asDict()[\"sum(pg_cancellation_confirmation)\"]}')\n",
    "print(f'number of downgrades: {pagesum.collect()[0].asDict()[\"sum(pg_submit_downgrade)\"]}')"
   ]
  },
  {
   "cell_type": "markdown",
   "id": "98b94ad5-ddd8-4b86-8306-c4ba2f444371",
   "metadata": {
    "tags": []
   },
   "source": [
    "This means, there were 115 churns, 52 cancels and 63 downgrades"
   ]
  },
  {
   "cell_type": "markdown",
   "id": "9c8a3123-d0f3-4d4a-98dc-15d7b389caf0",
   "metadata": {},
   "source": [
    "### Add page features to df\n",
    "\n",
    "The newly generated page features are joined to our dataframe using the \"id\" key.  \n",
    "We keep the original \"page\" column, even if it is already vectorized and not needed for training.  \n",
    "But we will use it for visualization."
   ]
  },
  {
   "cell_type": "code",
   "execution_count": 28,
   "id": "8d217010-3f6c-4a2b-b4bd-c904c991ffbe",
   "metadata": {
    "tags": []
   },
   "outputs": [],
   "source": [
    "df = df.join(page_features, \"id\")"
   ]
  },
  {
   "cell_type": "markdown",
   "id": "7b7b020e-3255-4e63-9592-605a373c551f",
   "metadata": {
    "tags": []
   },
   "source": [
    "### Vectorize level\n",
    "\n",
    "`Level` can have only two values and is never null. So we can vectorize this column.  \n",
    "The new column `paid` is 1, if level==\"paid\":"
   ]
  },
  {
   "cell_type": "code",
   "execution_count": 29,
   "id": "24dcd57b-df3b-4600-8e3f-7c6c08ae572c",
   "metadata": {
    "tags": []
   },
   "outputs": [
    {
     "name": "stdout",
     "output_type": "stream",
     "text": [
      "+-----+------+\n",
      "|level| count|\n",
      "+-----+------+\n",
      "| paid|222433|\n",
      "| free| 55721|\n",
      "+-----+------+\n",
      "\n"
     ]
    }
   ],
   "source": [
    "df.groupBy(\"level\").count().show()"
   ]
  },
  {
   "cell_type": "code",
   "execution_count": 30,
   "id": "b6fc64e9-c2e2-45bf-abfa-d60f1e885d53",
   "metadata": {
    "tags": []
   },
   "outputs": [],
   "source": [
    "df = df.withColumn(\"paid\", (df.level == 'paid').cast('int'))\n",
    "df = df.drop(\"level\")"
   ]
  },
  {
   "cell_type": "markdown",
   "id": "65fecc5b-d607-4d69-ad06-f5a3af3c7981",
   "metadata": {
    "tags": []
   },
   "source": [
    "### Vectorize gender\n",
    "\n",
    "`gender` was not binary. There were 8346 null value.  \n",
    "We removed 8346 users with userId == \"\".  \n",
    "Maybe the null values are now gone:"
   ]
  },
  {
   "cell_type": "code",
   "execution_count": 31,
   "id": "290353de-1334-493a-9c32-4033cb9b852e",
   "metadata": {
    "tags": []
   },
   "outputs": [
    {
     "name": "stdout",
     "output_type": "stream",
     "text": [
      "+------+------+\n",
      "|gender| count|\n",
      "+------+------+\n",
      "|     M|123576|\n",
      "|     F|154578|\n",
      "+------+------+\n",
      "\n"
     ]
    }
   ],
   "source": [
    "df.groupBy(\"gender\").count().show()"
   ]
  },
  {
   "cell_type": "markdown",
   "id": "78425be8-1053-41dd-878f-aa5737d28860",
   "metadata": {},
   "source": [
    "`gender` is now  binary. We can vectorize it in the same way as label.  \n",
    "The new column `male` is 1, if gender==\"male\":"
   ]
  },
  {
   "cell_type": "code",
   "execution_count": 32,
   "id": "95bc61d1-48a0-4f1c-85f7-b0e245ec32ef",
   "metadata": {
    "tags": []
   },
   "outputs": [],
   "source": [
    "df = df.withColumn(\"male\", (df.gender == 'M').cast('int'))\n",
    "df = df.drop(\"gender\")"
   ]
  },
  {
   "cell_type": "markdown",
   "id": "ff8d7bd4-2872-4d69-92f7-6b72c24d38b2",
   "metadata": {
    "tags": []
   },
   "source": [
    "### Vectorize status\n",
    "\n",
    "`status` contains the http code returned (200, 307, 404). The code 200 (\"OK\") can be dropped.df.groupBy(\"level\").count().show()"
   ]
  },
  {
   "cell_type": "code",
   "execution_count": 34,
   "id": "c6730af7-983e-4fdb-89e3-acf38c176b22",
   "metadata": {
    "tags": []
   },
   "outputs": [
    {
     "name": "stdout",
     "output_type": "stream",
     "text": [
      "+------+------+\n",
      "|status| count|\n",
      "+------+------+\n",
      "|   200|254718|\n",
      "|   307| 23184|\n",
      "|   404|   252|\n",
      "+------+------+\n",
      "\n"
     ]
    }
   ],
   "source": [
    "df.groupBy(\"status\").count().show()"
   ]
  },
  {
   "cell_type": "code",
   "execution_count": 35,
   "id": "85692a52-ffbb-4fc2-aaff-978abed88cbe",
   "metadata": {
    "tags": []
   },
   "outputs": [],
   "source": [
    "status_features = df.groupBy(\"id\").pivot(\"status\").agg(F.lit(1)).na.fill(0)\n",
    "status_features = status_features.toDF(*((\"status_\"+col) if col != \"id\" else \"id\" for col in status_features.columns)).drop(\"status_200\")\n",
    "df = df.join(status_features, \"id\")\n",
    "df = df.drop(\"status\")"
   ]
  },
  {
   "cell_type": "markdown",
   "id": "e43b6195-aaf2-4138-9c09-74554dd0ef4d",
   "metadata": {},
   "source": [
    "### Sessions\n",
    "\n",
    "Sessions start, when a users first visits the Sparkify page and ends, when the browser is closed or after some time of inactivity.\n",
    "We recognized an anomaly, when itemInSession dropped from 91 back to 0."
   ]
  },
  {
   "cell_type": "code",
   "execution_count": 36,
   "id": "6d32bf74-bb8b-47b8-9eb6-b8ac5b58fabd",
   "metadata": {
    "tags": []
   },
   "outputs": [
    {
     "name": "stdout",
     "output_type": "stream",
     "text": [
      "+-------------+---------+-------------+---------------+------+\n",
      "|           ts|sessionId|itemInSession|           page|userId|\n",
      "+-------------+---------+-------------+---------------+------+\n",
      "|1538352117000|       29|           50|       NextSong|    30|\n",
      "|1538352394000|       29|           51|       NextSong|    30|\n",
      "|1538352676000|       29|           52|       NextSong|    30|\n",
      "|1538352899000|       29|           53|       NextSong|    30|\n",
      "|1538352905000|       29|           54|Add to Playlist|    30|\n",
      "|1538353084000|       29|           55|       NextSong|    30|\n",
      "|1538353218000|       29|           56|       NextSong|    30|\n",
      "|1538353441000|       29|           57|       NextSong|    30|\n",
      "|1538353687000|       29|           58|       NextSong|    30|\n",
      "|1538353909000|       29|           59|       NextSong|    30|\n",
      "|1538354132000|       29|           60|       NextSong|    30|\n",
      "|1538354365000|       29|           61|       NextSong|    30|\n",
      "|1538354584000|       29|           62|       NextSong|    30|\n",
      "|1538354806000|       29|           63|       NextSong|    30|\n",
      "|1538354945000|       29|           64|       NextSong|    30|\n",
      "|1538355256000|       29|           65|       NextSong|    30|\n",
      "|1538355473000|       29|           66|       NextSong|    30|\n",
      "|1538355711000|       29|           67|       NextSong|    30|\n",
      "|1538355915000|       29|           68|       NextSong|    30|\n",
      "|1538356263000|       29|           69|       NextSong|    30|\n",
      "|1538356523000|       29|           70|       NextSong|    30|\n",
      "|1538356524000|       29|           71|    Thumbs Down|    30|\n",
      "|1538356707000|       29|           72|       NextSong|    30|\n",
      "|1538356903000|       29|           73|       NextSong|    30|\n",
      "|1538357223000|       29|           74|       NextSong|    30|\n",
      "|1538357452000|       29|           75|       NextSong|    30|\n",
      "|1538357648000|       29|           76|       NextSong|    30|\n",
      "|1538357649000|       29|           77|      Thumbs Up|    30|\n",
      "|1538357990000|       29|           78|       NextSong|    30|\n",
      "|1538357991000|       29|           79|      Thumbs Up|    30|\n",
      "|1538358314000|       29|           80|       NextSong|    30|\n",
      "|1538358532000|       29|           81|       NextSong|    30|\n",
      "|1538358761000|       29|           82|       NextSong|    30|\n",
      "|1538359054000|       29|           83|       NextSong|    30|\n",
      "|1538359320000|       29|           84|       NextSong|    30|\n",
      "|1538360720000|       29|           85|       NextSong|    30|\n",
      "|1538360737000|       29|           86|    Roll Advert|    30|\n",
      "|1538360905000|       29|           87|       NextSong|    30|\n",
      "|1538361107000|       29|           88|       NextSong|    30|\n",
      "|1538361372000|       29|           89|       NextSong|    30|\n",
      "|1538361540000|       29|           90|       NextSong|    30|\n",
      "|1538361575000|       29|           91|Add to Playlist|    30|\n",
      "+-------------+---------+-------------+---------------+------+\n",
      "\n"
     ]
    }
   ],
   "source": [
    "df.select(\"ts\", \"sessionId\", \"itemInSession\", \"page\", \"userId\").where(F.col(\"sessionId\")==29).sort(\"ts\").show(999)"
   ]
  },
  {
   "cell_type": "markdown",
   "id": "0a4f3ff2-1cf5-40e1-826c-580a6f10d3c5",
   "metadata": {},
   "source": [
    "The anomaly has vanished, most likely, because the empty user was removed.  \n",
    "That means, the same session id can occurr at different times for different users.  \n",
    "Let´s verify this:"
   ]
  },
  {
   "cell_type": "code",
   "execution_count": 37,
   "id": "75430f96-e423-495d-92aa-f47c0492ef6d",
   "metadata": {
    "tags": []
   },
   "outputs": [
    {
     "name": "stdout",
     "output_type": "stream",
     "text": [
      "+---------+-----+\n",
      "|sessionId|count|\n",
      "+---------+-----+\n",
      "|      217|    3|\n",
      "|       53|    4|\n",
      "|      240|    3|\n",
      "|      100|    4|\n",
      "|      187|    4|\n",
      "+---------+-----+\n",
      "only showing top 5 rows\n",
      "\n"
     ]
    }
   ],
   "source": [
    "df.dropDuplicates([\"sessionId\", \"userId\"]).groupBy(\"sessionId\").count().where(F.col(\"count\")>1).show(5)"
   ]
  },
  {
   "cell_type": "markdown",
   "id": "9a2f5d91-5043-44ec-b3c4-a33a1dceb957",
   "metadata": {
    "tags": []
   },
   "source": [
    "sessionId \"65\" occurrs for four different users. To verify this:"
   ]
  },
  {
   "cell_type": "code",
   "execution_count": 38,
   "id": "e982b2e2-419d-4a19-bf53-0a97284d538c",
   "metadata": {
    "tags": []
   },
   "outputs": [
    {
     "name": "stdout",
     "output_type": "stream",
     "text": [
      "+------+-------------+-------------+\n",
      "|userId|      min(ts)|count(userId)|\n",
      "+------+-------------+-------------+\n",
      "|    66|1538682135000|           15|\n",
      "|200021|1538717365000|           10|\n",
      "|100013|1538841588000|           73|\n",
      "|300023|1538984097000|          270|\n",
      "+------+-------------+-------------+\n",
      "\n"
     ]
    }
   ],
   "source": [
    "df.where(df.sessionId==65).groupBy(\"userId\").agg(F.min(F.col(\"ts\")), F.count(F.col(\"userId\"))).show()"
   ]
  },
  {
   "cell_type": "markdown",
   "id": "f1693980-18cc-4e88-8333-b961b26619b3",
   "metadata": {
    "tags": []
   },
   "source": [
    "The duplicate session IDs make things complicated (similair as the duplicate \"ts\" above).  \n",
    "In the same way, as we created the new \"id\" column we will create a synthetic \"sid\" column, which is unique over all users and times.  \n",
    "Let´s check, whether the session id is unique per user:"
   ]
  },
  {
   "cell_type": "code",
   "execution_count": 39,
   "id": "ec6fade0-352e-4b8e-9c8b-41b418340921",
   "metadata": {
    "tags": []
   },
   "outputs": [
    {
     "name": "stdout",
     "output_type": "stream",
     "text": [
      "+---------+------+-------------+-----+\n",
      "|sessionId|userId|itemInSession|count|\n",
      "+---------+------+-------------+-----+\n",
      "+---------+------+-------------+-----+\n",
      "\n"
     ]
    }
   ],
   "source": [
    "df.groupBy(\"sessionId\", \"userId\", \"itemInSession\").count().where(F.col(\"count\")>1).show()"
   ]
  },
  {
   "cell_type": "markdown",
   "id": "a9ebf1d1-df0b-4c4e-86a1-4cd432cddc4e",
   "metadata": {},
   "source": [
    "So there are no duplicate session ids for the same userId.  \n",
    "Now we can create the \"sid\":"
   ]
  },
  {
   "cell_type": "code",
   "execution_count": 43,
   "id": "8ff8f1ec-f074-4341-b484-3ec1222c6b68",
   "metadata": {},
   "outputs": [],
   "source": [
    "df_sess_user = df.select(\"sessionId\", \"userId\").dropDuplicates()\n",
    "w = Window().orderBy(\"sessionId\", \"userId\")\n",
    "df_sess_user = df_sess_user.withColumn(\"sid\", F.row_number().over(w))\n",
    "df = df.join(df_sess_user, [\"sessionId\", \"userId\"])"
   ]
  },
  {
   "cell_type": "code",
   "execution_count": 46,
   "id": "93d34509-d023-42b7-b108-6b3fd2ed04b9",
   "metadata": {
    "tags": []
   },
   "outputs": [
    {
     "data": {
      "text/plain": [
       "3176"
      ]
     },
     "execution_count": 46,
     "metadata": {},
     "output_type": "execute_result"
    }
   ],
   "source": [
    "df.select(\"sid\").dropDuplicates().count()"
   ]
  },
  {
   "cell_type": "markdown",
   "id": "3683f8b9-fc9e-449a-84c3-7c8ddb929322",
   "metadata": {},
   "source": [
    "So, we have now 3176 unique \"sid\"s. The number of different \"sessionId\"s was only 2345"
   ]
  },
  {
   "cell_type": "markdown",
   "id": "143e1418-2823-407b-91e5-a4e8bcd328a0",
   "metadata": {},
   "source": [
    "#### Add Session-Start Marker\n",
    "\n",
    "It might be helpful to have a marker at the beginning of each session.  "
   ]
  },
  {
   "cell_type": "code",
   "execution_count": 47,
   "id": "08d968b1-d8fa-480b-bfd9-c796922e6153",
   "metadata": {
    "tags": []
   },
   "outputs": [],
   "source": [
    "df_session_start = df.groupBy(\"sid\").agg(F.min(\"id\").alias(\"id\")).drop(\"sid\").withColumn(\"session_start\", F.lit(1).cast(\"int\"))\n",
    "df = df.join(df_session_start, \"id\", how=\"outer\").fillna(0)\n",
    "\n",
    "# alternative possibility to mark session starts\n",
    "# w = Window.partitionBy('sessionId').orderBy(F.col('id'))\n",
    "# df = df.withColumn('sessionstart', F.coalesce((F.lag('sessionId').over(w) != F.col('sessionId')).cast('int'), F.lit(1)))"
   ]
  },
  {
   "cell_type": "markdown",
   "id": "a919f5d3-3b49-4683-ad72-7fdf1a87bedc",
   "metadata": {},
   "source": [
    "Now we can drop the old session columns"
   ]
  },
  {
   "cell_type": "code",
   "execution_count": 50,
   "id": "2534cc74-0775-4bef-907c-c80aba64f74d",
   "metadata": {
    "tags": []
   },
   "outputs": [],
   "source": [
    "df = df.drop(\"sessionId\", \"itemInSession\")"
   ]
  },
  {
   "cell_type": "markdown",
   "id": "5fad792d-8b01-40dc-b8e8-7b508cbb7a3e",
   "metadata": {},
   "source": [
    "# Finished\n",
    "\n",
    "The dataset cleanup is finished. the new Schema looks like this:"
   ]
  },
  {
   "cell_type": "code",
   "execution_count": 51,
   "id": "8bdb3b17-6ff4-424e-a541-30846825e12b",
   "metadata": {
    "tags": []
   },
   "outputs": [
    {
     "name": "stdout",
     "output_type": "stream",
     "text": [
      "root\n",
      " |-- id: integer (nullable = true)\n",
      " |-- userId: string (nullable = true)\n",
      " |-- page: string (nullable = true)\n",
      " |-- registration: long (nullable = true)\n",
      " |-- ts: long (nullable = true)\n",
      " |-- pg_about: integer (nullable = true)\n",
      " |-- pg_add_friend: integer (nullable = true)\n",
      " |-- pg_add_to_playlist: integer (nullable = true)\n",
      " |-- pg_cancel: integer (nullable = true)\n",
      " |-- pg_cancellation_confirmation: integer (nullable = true)\n",
      " |-- pg_downgrade: integer (nullable = true)\n",
      " |-- pg_error: integer (nullable = true)\n",
      " |-- pg_help: integer (nullable = true)\n",
      " |-- pg_home: integer (nullable = true)\n",
      " |-- pg_logout: integer (nullable = true)\n",
      " |-- pg_nextsong: integer (nullable = true)\n",
      " |-- pg_roll_advert: integer (nullable = true)\n",
      " |-- pg_save_settings: integer (nullable = true)\n",
      " |-- pg_settings: integer (nullable = true)\n",
      " |-- pg_submit_downgrade: integer (nullable = true)\n",
      " |-- pg_submit_upgrade: integer (nullable = true)\n",
      " |-- pg_thumbs_down: integer (nullable = true)\n",
      " |-- pg_thumbs_up: integer (nullable = true)\n",
      " |-- pg_upgrade: integer (nullable = true)\n",
      " |-- paid: integer (nullable = true)\n",
      " |-- male: integer (nullable = true)\n",
      " |-- status_307: integer (nullable = true)\n",
      " |-- status_404: integer (nullable = true)\n",
      " |-- sid: integer (nullable = true)\n",
      " |-- session_start: integer (nullable = true)\n",
      "\n"
     ]
    }
   ],
   "source": [
    "df.printSchema()"
   ]
  },
  {
   "cell_type": "markdown",
   "id": "8dd088f2-d159-479a-8474-a723c3930589",
   "metadata": {
    "tags": []
   },
   "source": [
    "## Persist dataset\n",
    "\n",
    "now we have finished all transformations, we can persist this state to reduce recalcuation of the transformations."
   ]
  },
  {
   "cell_type": "code",
   "execution_count": 54,
   "id": "94496b1d-1150-4774-907b-f07fa9a4e233",
   "metadata": {
    "tags": []
   },
   "outputs": [],
   "source": [
    "df_old_persist = df_persist\n",
    "df_persist = df.persist()\n",
    "df_old_persist.unpersist()\n",
    "df = df_persist"
   ]
  },
  {
   "cell_type": "markdown",
   "id": "5d5bd4b4-7f65-4564-9aad-40b9c433aa5d",
   "metadata": {},
   "source": [
    "## Save to S3\n",
    "\n",
    "Following the ETL process, the extracted data is now written into a new file, which can be loaded for the next processing step"
   ]
  },
  {
   "cell_type": "code",
   "execution_count": 58,
   "id": "9e07edaa-a35d-4f09-8534-39d1c89dd209",
   "metadata": {
    "tags": []
   },
   "outputs": [
    {
     "name": "stdout",
     "output_type": "stream",
     "text": [
      "### SAVING CLEANED DATA s3a://udacity-dsnd/sparkify/output/02-cleaned-mini_sparkify_event_data.json\n"
     ]
    }
   ],
   "source": [
    "print(f\"### SAVING CLEANED DATA {CLEAN_DATA_URL}\")\n",
    "df.write.format('json').mode('overwrite').save(CLEAN_DATA_URL)"
   ]
  },
  {
   "cell_type": "code",
   "execution_count": 59,
   "id": "558c372d-1625-4571-a51d-593eee3578d8",
   "metadata": {
    "tags": []
   },
   "outputs": [],
   "source": [
    "spark.stop()"
   ]
  },
  {
   "cell_type": "code",
   "execution_count": null,
   "id": "5add38e5-d5b4-4691-901d-173baa2a92a6",
   "metadata": {},
   "outputs": [],
   "source": []
  }
 ],
 "metadata": {
  "kernelspec": {
   "display_name": "py38",
   "language": "python",
   "name": "py38"
  },
  "language_info": {
   "codemirror_mode": {
    "name": "ipython",
    "version": 3
   },
   "file_extension": ".py",
   "mimetype": "text/x-python",
   "name": "python",
   "nbconvert_exporter": "python",
   "pygments_lexer": "ipython3",
   "version": "3.8.0"
  }
 },
 "nbformat": 4,
 "nbformat_minor": 5
}
